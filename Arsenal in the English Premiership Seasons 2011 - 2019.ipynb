{
 "cells": [
  {
   "cell_type": "markdown",
   "metadata": {},
   "source": [
    "Insert Markdown Here\n",
    "https://datahub.io/sports-data/english-premier-league#data\n"
   ]
  },
  {
   "cell_type": "code",
   "execution_count": 1484,
   "metadata": {},
   "outputs": [],
   "source": [
    "#Import required libraries\n",
    "import pandas as pd\n",
    "import numpy as np\n",
    "import matplotlib.pyplot as plt\n",
    "from bokeh.io import show, output_file\n",
    "from bokeh.plotting import figure\n",
    "from bokeh.models import ColumnDataSource\n",
    "from bokeh.models.glyphs import MultiLine\n",
    "# Bokeh Library\n",
    "from bokeh.models import HoverTool\n",
    "%matplotlib inline"
   ]
  },
  {
   "cell_type": "code",
   "execution_count": 1485,
   "metadata": {},
   "outputs": [],
   "source": [
    "#Load data from csv\n",
    "season_one = pd.read_csv(r\"C:\\Users\\Ajibola Vincent\\Downloads\\EPL Visualization Project\\season-0910_csv.csv\", parse_dates=['Date'])\n",
    "season_two = pd.read_csv(r\"C:\\Users\\Ajibola Vincent\\Downloads\\EPL Visualization Project\\season-1011_csv.csv\", parse_dates=['Date'])\n",
    "season_three = pd.read_csv(r\"C:\\Users\\Ajibola Vincent\\Downloads\\EPL Visualization Project\\season-1112_csv.csv\", parse_dates=['Date'])\n",
    "season_four= pd.read_csv(r\"C:\\Users\\Ajibola Vincent\\Downloads\\EPL Visualization Project\\season-1213_csv.csv\", parse_dates=['Date'])\n",
    "season_five = pd.read_csv(r\"C:\\Users\\Ajibola Vincent\\Downloads\\EPL Visualization Project\\season-1314_csv.csv\", parse_dates=['Date'])\n",
    "season_six = pd.read_csv(r\"C:\\Users\\Ajibola Vincent\\Downloads\\EPL Visualization Project\\season-1415_csv.csv\", parse_dates=['Date'])\n",
    "season_seven = pd.read_csv(r\"C:\\Users\\Ajibola Vincent\\Downloads\\EPL Visualization Project\\season-1516_csv.csv\", parse_dates=['Date'])\n",
    "season_eight = pd.read_csv(r\"C:\\Users\\Ajibola Vincent\\Downloads\\EPL Visualization Project\\season-1617_csv.csv\", parse_dates=['Date'])\n",
    "season_nine = pd.read_csv(r\"C:\\Users\\Ajibola Vincent\\Downloads\\EPL Visualization Project\\season-1718_csv.csv\", parse_dates=['Date'])\n",
    "season_ten = pd.read_csv(r\"C:\\Users\\Ajibola Vincent\\Downloads\\EPL Visualization Project\\season-1819_csv.csv\", parse_dates=['Date'])"
   ]
  },
  {
   "cell_type": "code",
   "execution_count": 1486,
   "metadata": {},
   "outputs": [],
   "source": [
    "# Merge all 10 dataframes into a single dataframe\n",
    "allseasons = pd.concat([season_one,season_two,season_three,season_four,season_five,season_six,season_seven,season_eight,\n",
    "                       season_nine, season_ten])"
   ]
  },
  {
   "cell_type": "code",
   "execution_count": 1487,
   "metadata": {},
   "outputs": [],
   "source": [
    "# Select games where Arsenal played home or away : 38 per season i.e 380 games in total\n",
    "allseasonsArsenal = allseasons[(allseasons['AwayTeam'] == 'Arsenal') | (allseasons['HomeTeam'] == 'Arsenal')]"
   ]
  },
  {
   "cell_type": "code",
   "execution_count": 1488,
   "metadata": {},
   "outputs": [
    {
     "data": {
      "text/plain": [
       "<matplotlib.axes._subplots.AxesSubplot at 0x1fb9b5c06d8>"
      ]
     },
     "execution_count": 1488,
     "metadata": {},
     "output_type": "execute_result"
    },
    {
     "data": {
      "image/png": "[encoded data removed]",
      "text/plain": [
       "<Figure size 432x288 with 1 Axes>"
      ]
     },
     "metadata": {},
     "output_type": "display_data"
    }
   ],
   "source": [
    "#Quick plot showing the referees who have officiated who have officiated Arsenal games\n",
    "allseasonsArsenal.groupby(['Referee']).size().nlargest(10).plot(kind='bar')"
   ]
  },
  {
   "cell_type": "code",
   "execution_count": 1489,
   "metadata": {},
   "outputs": [],
   "source": [
    "# Check the result type: W for Win , D for draw and L for Loss\n",
    "def check_results(row):\n",
    "    result = \"\"\n",
    "    res = row['FTR']\n",
    "    team1 = row['HomeTeam']\n",
    "    team2 = row['AwayTeam']\n",
    "    if (team1 == 'Arsenal') & (res == 'H'):\n",
    "        result = 'W'\n",
    "    elif (team1 == 'Arsenal') & (res == 'A'):\n",
    "        result = 'L'\n",
    "    elif (team2 == 'Arsenal') & (res == 'A'):\n",
    "        result = 'W'\n",
    "    elif (team2 == 'Arsenal') & (res == 'H'):\n",
    "        result = 'L'\n",
    "    else:\n",
    "        result = 'D'       \n",
    "\n",
    "    return result"
   ]
  },
  {
   "cell_type": "code",
   "execution_count": 1490,
   "metadata": {},
   "outputs": [],
   "source": [
    "# Function to assign points to the result: 1 Point for Draw/Tie, 0 Points for a loass and 3 points for a win\n",
    "def check_points(row):\n",
    "    points = 0\n",
    "    result = row['Results']\n",
    "    if result == 'D':\n",
    "        points = 1\n",
    "    elif result == 'W':\n",
    "        points = 3\n",
    "    else:\n",
    "        points = 0    \n",
    "    return points"
   ]
  },
  {
   "cell_type": "code",
   "execution_count": 1491,
   "metadata": {},
   "outputs": [],
   "source": [
    "# Assign season to date of match. Season  starts in August and ends in May \n",
    "def check_season(row):\n",
    "    season = \"\"\n",
    "    date = row['Date']\n",
    "    if (date >= pd.to_datetime('2009-08-15')) & (date <= pd.to_datetime('2010-05-21')):\n",
    "        season += \"09-10\"\n",
    "    elif (date >= pd.to_datetime('2010-08-10')) & (date <= pd.to_datetime('2011-05-23')):\n",
    "        season += \"10-11\"\n",
    "    elif (date >= pd.to_datetime('2011-08-13')) & (date <= pd.to_datetime('2012-05-23')):\n",
    "        season += \"11-12\"\n",
    "    elif (date >= pd.to_datetime(\"2012-08-18\")) & (date <= pd.to_datetime(\"2013-05-19\")): \n",
    "        season += \"12-13\" \n",
    "    elif (date >= pd.to_datetime(\"2013-08-17\")) & (date <= pd.to_datetime(\"2014-05-11\")): \n",
    "        season += \"13-14\" \n",
    "    elif (date >= pd.to_datetime(\"2014-08-16\")) & (date <= pd.to_datetime(\"2015-05-24\")): \n",
    "        season += \"14-15\" \n",
    "    elif (date >= pd.to_datetime(\"2015-08-08\")) & (date <= pd.to_datetime(\"2016-05-15\")): \n",
    "        season += \"15-16\" \n",
    "    elif (date >= pd.to_datetime(\"2016-08-13\")) & (date <= pd.to_datetime(\"2017-05-21\")): \n",
    "        season += \"16-17\" \n",
    "    elif (date >= pd.to_datetime(\"2017-08-11\")) & (date <= pd.to_datetime(\"2018-05-13\")):\n",
    "        season += \"17-18\"\n",
    "    elif (date >= pd.to_datetime(\"2018-08-05\")) & (date <= pd.to_datetime(\"2019-05-20\")):\n",
    "        season += \"18-19\"\n",
    "    else:\n",
    "        season = season\n",
    "    return season"
   ]
  },
  {
   "cell_type": "code",
   "execution_count": 1644,
   "metadata": {},
   "outputs": [],
   "source": [
    "# Create new column for results\n",
    "allseasonsArsenal.loc[:, 'Results'] = allseasonsArsenal.apply(check_results, axis = 1)"
   ]
  },
  {
   "cell_type": "code",
   "execution_count": 1645,
   "metadata": {},
   "outputs": [],
   "source": [
    "# Create new column for points\n",
    "allseasonsArsenal.loc[:, 'Points'] = allseasonsArsenal.apply(check_points, axis = 1)"
   ]
  },
  {
   "cell_type": "code",
   "execution_count": 1646,
   "metadata": {},
   "outputs": [],
   "source": [
    "# Create new column for Season\n",
    "allseasonsArsenal.loc[:, 'Season'] = allseasonsArsenal.apply(check_season, axis = 1)"
   ]
  },
  {
   "cell_type": "code",
   "execution_count": 1647,
   "metadata": {},
   "outputs": [],
   "source": [
    "# Create new column for Progress(The Sum of points accrued per season)\n",
    "allseasonsArsenal.loc[:, 'Progress'] = allseasonsArsenal.groupby('Season')['Points'].cumsum() "
   ]
  },
  {
   "cell_type": "code",
   "execution_count": 1648,
   "metadata": {},
   "outputs": [],
   "source": [
    "# Function to calculate the results by the referee who officiated\n",
    "def win_percent_by_referee(df):\n",
    "    temp = pd.DataFrame({'count' : df.groupby( [ 'Referee', 'Results'] )['Referee'].size()}).reset_index()\n",
    "    temp['count'].astype(int)\n",
    "    temp['Percent'] = round(temp.groupby('Referee')['count'].transform(lambda x: x/sum(x) * 100))\n",
    "    temp = pd.pivot_table(temp, values='Percent', index=['Referee'],columns=['Results'], aggfunc=np.sum)\n",
    "    temp.columns = ['Draw%', 'Loss%', 'Win%']\n",
    "    temp.fillna(0,inplace=True)\n",
    "    print (str(len(df['Referee'].unique())) + \" referees officiated matches in the \" + \n",
    "           str(len(allseasonsArsenal['Season'].unique())) + \" seasons\")\n",
    "    return temp"
   ]
  },
  {
   "cell_type": "code",
   "execution_count": 1649,
   "metadata": {},
   "outputs": [],
   "source": [
    "# Find win, draw, loss, goald for, goals against, goal difference and points by season\n",
    "results = pd.DataFrame({'Count' : allseasonsArsenal.groupby(['Season', 'Results']).size()}).reset_index()\n",
    "results = pd.pivot_table(results, values='Count', index=['Season'],columns=['Results'], aggfunc=np.sum)"
   ]
  },
  {
   "cell_type": "code",
   "execution_count": 1650,
   "metadata": {},
   "outputs": [],
   "source": [
    "# Calculate the total results against all teams per season\n",
    "def results_by_team(df):\n",
    "    away = df.groupby(['AwayTeam','HomeTeam','Results']).size().to_frame('size')\n",
    "    away = pd.pivot_table(away, values='size', index=['HomeTeam'],columns=['Results'], aggfunc=np.sum)\n",
    "    away.fillna(0,inplace=True)\n",
    "    home = df.groupby(['HomeTeam','AwayTeam','Results']).size().to_frame('size')\n",
    "    home = pd.pivot_table(home, values='size', index=['AwayTeam'],columns=['Results'], aggfunc=np.sum)\n",
    "    home.fillna(0,inplace=True)\n",
    "    temp = away.add(home, fill_value=0)\n",
    "    temp['Win%'] = round((temp['W']/ temp.sum(axis = 1)) * 100, 1)\n",
    "    temp.drop(['Arsenal'], inplace=True)\n",
    "    print (\"Arsenal played against \" + str(len(allseasonsArsenal['HomeTeam'].unique())) + \" teams in the \" + \n",
    "       str(len(allseasonsArsenal['Season'].unique())) + \" seasons\")\n",
    "    print (\"Arsenal won \"+str(allseasonsArsenal.groupby(['Results']).size().to_frame('size').loc['W'][0]) + \" games, drew \"\n",
    "           + str(allseasonsArsenal.groupby(['Results']).size().to_frame('size').loc['D'][0])\n",
    "           +\" games and lost \" + str(allseasonsArsenal.groupby(['Results']).size().to_frame('size').loc['L'][0])\n",
    "           + \" games in the \" + str(len(allseasonsArsenal['Season'].unique())) + \" seasons\")\n",
    "    return temp"
   ]
  },
  {
   "cell_type": "code",
   "execution_count": 1651,
   "metadata": {},
   "outputs": [],
   "source": [
    "# Select Away Games\n",
    "allseasonsAway = allseasonsArsenal[allseasonsArsenal['AwayTeam'] == 'Arsenal']\n",
    "\n",
    "# Select Home Games\n",
    "allseasonsHome = allseasonsArsenal[allseasonsArsenal['HomeTeam'] == 'Arsenal']"
   ]
  },
  {
   "cell_type": "code",
   "execution_count": 1672,
   "metadata": {
    "scrolled": true
   },
   "outputs": [],
   "source": [
    "# Goals conceded at home by season\n",
    "allseasonsHome.loc[:, 'HomeConceeded'] = allseasonsHome.groupby('Season')['FTAG'].cumsum() \n",
    "homeGoalsConceeded = allseasonsHome.groupby(['Season'])['HomeConceeded'].tail(1)"
   ]
  },
  {
   "cell_type": "code",
   "execution_count": 1673,
   "metadata": {},
   "outputs": [],
   "source": [
    "# Goals conceded away by season\n",
    "allseasonsAway.loc[:, 'AwayConceeded'] = allseasonsAway.groupby('Season')['FTHG'].cumsum() \n",
    "awayGoalsConceeded = allseasonsAway.groupby(['Season'])['AwayConceeded'].tail(1)"
   ]
  },
  {
   "cell_type": "code",
   "execution_count": 1674,
   "metadata": {},
   "outputs": [],
   "source": [
    "# Goals scored away by season\n",
    "allseasonsAway.loc[:, 'AwayScored'] = allseasonsAway.groupby('Season')['FTAG'].cumsum() \n",
    "awayGoalsScored = allseasonsAway.groupby(['Season'])['AwayScored'].tail(1)"
   ]
  },
  {
   "cell_type": "code",
   "execution_count": 1675,
   "metadata": {},
   "outputs": [],
   "source": [
    "# Goals scored at home by season\n",
    "allseasonsHome.loc[:, 'HomeScored'] = allseasonsHome.groupby('Season')['FTHG'].cumsum()\n",
    "homeGoalsScored = allseasonsHome.groupby(['Season'])['HomeScored'].tail(1)"
   ]
  },
  {
   "cell_type": "code",
   "execution_count": 1692,
   "metadata": {},
   "outputs": [],
   "source": [
    "# Points amassed by season\n",
    "arsenalPoints = allseasonsArsenal.groupby(['Season'])['Progress'].tail(1)"
   ]
  },
  {
   "cell_type": "code",
   "execution_count": 1693,
   "metadata": {},
   "outputs": [],
   "source": [
    "positions = ['3rd','4th','3rd','4th','4th','3rd','2nd','5th','6th','5th']"
   ]
  },
  {
   "cell_type": "code",
   "execution_count": 1694,
   "metadata": {},
   "outputs": [],
   "source": [
    "# Summary dataframe for Totteham Hotspurs\n",
    "spurs = allseasons[(allseasons['AwayTeam'] == 'Arsenal') | (allseasons['HomeTeam'] == 'Arsenal')]\n",
    "spurs.loc[:, 'Results'] = spurs.apply(check_results, axis = 1)\n",
    "spurs.loc[:, 'Points'] = spurs.apply(check_points, axis = 1)\n",
    "spurs.loc[:, 'Season'] = spurs.apply(check_season, axis = 1)\n",
    "spurs.loc[:, 'Progress'] = spurs.groupby('Season')['Points'].cumsum() \n",
    "spurs_points = allseasonsArsenal.groupby(['Season'])['Progress'].tail(1)\n",
    "spurs_positions = ['4th','5th','4th','5th', '6th','5th' ,'3rd','2nd','3rd','4th']\n",
    "spurs_combined= pd.concat([pd.Series(spurs['Season'].unique()),arsenalPoints.reset_index(drop = True),\n",
    "                          pd.Series(spurs_positions)] ,axis=1)\n",
    "spurs_combined.columns = ['Season','Points', 'Position']"
   ]
  },
  {
   "cell_type": "code",
   "execution_count": 1695,
   "metadata": {},
   "outputs": [],
   "source": [
    "# Combine the extract series and group by results into a single dataframe\n",
    "arsenal_combined= pd.concat([pd.Series(allseasonsArsenal['Season'].unique()),\n",
    "                           homeGoalsScored.reset_index(drop = True) + awayGoalsScored.reset_index(drop = True),\n",
    "                           homeGoalsConceeded.reset_index(drop = True) + awayGoalsConceeded.reset_index(drop = True),\n",
    "                           arsenalPoints.reset_index(drop = True),pd.Series(positions),\n",
    "                           spurs_combined['Points'], spurs_combined['Position']] ,axis=1)\n",
    "arsenal_combined.columns = ['Season','For','Against','Points', 'Position', 'SpursPoints','SpursPosition']"
   ]
  },
  {
   "cell_type": "code",
   "execution_count": 1696,
   "metadata": {},
   "outputs": [
    {
     "name": "stdout",
     "output_type": "stream",
     "text": [
      "Arsenal played against 36 teams in the 10 seasons\n",
      "Arsenal won 213 games, drew 80 games and lost 87 games in the 10 seasons\n",
      "27 referees officiated matches in the 10 seasons\n"
     ]
    }
   ],
   "source": [
    "# Create a ColumnDataSource for Points, HomeGoals, AwayGoals, HomeConceeded, AwayConceeded\n",
    "arsenal_combined_cds = ColumnDataSource(arsenal_combined)\n",
    "results_team_cds = ColumnDataSource(results_by_team(allseasonsArsenal))\n",
    "results_referee_cds = ColumnDataSource(win_percent_by_referee(allseasonsArsenal))\n",
    "spurs_cds = ColumnDataSource(spurs_combined)"
   ]
  },
  {
   "cell_type": "code",
   "execution_count": 1697,
   "metadata": {},
   "outputs": [],
   "source": [
    "# Create and configure the figure\n",
    "goals_fig = figure(x_range = arsenal_combined_cds.data['Season'],plot_height=300, plot_width=500,\n",
    "             title='Arsenal in the EPL',\n",
    "             x_axis_label='Season', y_axis_label='Goals',\n",
    "             toolbar_location=None)\n",
    "\n",
    "goals_fig.line('Season', 'For', \n",
    "         color='#CE1141', legend='Scored', \n",
    "         source=seasonsCombined_cds)\n",
    "goals_fig.line('Season', 'Against', \n",
    "         color='#006BB6', legend='Conceeded', \n",
    "         source=seasonsCombined_cds)\n",
    "\n",
    "# Move the legend to the upper left corner\n",
    "goals_fig.legend.location = 'top_right'\n",
    "\n",
    "#Implement hide on click\n",
    "goals_fig.legend.click_policy=\"hide\""
   ]
  },
  {
   "cell_type": "code",
   "execution_count": 1698,
   "metadata": {},
   "outputs": [],
   "source": [
    "points_fig = figure(x_range = arsenal_combined_cds.data['Season'],plot_height=300, plot_width=500,\n",
    "             title='Arsenal vs Totteham in the EPL',x_axis_label='Season', y_axis_label='Points',\n",
    "             toolbar_location=None)\n",
    "tooltips = [('TotalPoints','@Points'),('FinalPosition', '@Position')]\n",
    "points_fig.line('Season', 'Points', color='#CE1141', legend='Arsenal', \n",
    "               source=arsenal_combined_cds)                               \n",
    "#points_fig.add_tools(HoverTool(renderers=[r1], tooltips=tooltips))\n",
    "\n",
    "points_fig.line('Season', 'SpursPoints', color='#006BB6', legend='Spurs', \n",
    "              source=arsenal_combined_cds)\n",
    "#points_fig.add_tools(HoverTool(renderers=[r2], tooltips=tooltips))\n",
    "\n",
    "# Move the legend to the upper left corner\n",
    "points_fig.legend.location = 'top_right'\n",
    "\n",
    "#Implement hide on click\n",
    "points_fig.legend.click_policy=\"hide\""
   ]
  },
  {
   "cell_type": "code",
   "execution_count": 1699,
   "metadata": {},
   "outputs": [
    {
     "data": {
      "text/plain": [
       "'results_team_fig = Bar(df, label=\\'yr\\', values=\\'mpg\\', agg=\\'median\\', group=\\'origin\\',\\n                  title=\"Something\", legend=\\'top_right\\')'"
      ]
     },
     "execution_count": 1699,
     "metadata": {},
     "output_type": "execute_result"
    }
   ],
   "source": [
    "# Plot graph for teams Arsenal have met in all 10 seasons\n",
    "'''results_team_fig = Bar(df, label='yr', values='mpg', agg='median', group='origin',\n",
    "                  title=\"Something\", legend='top_right')'''"
   ]
  },
  {
   "cell_type": "code",
   "execution_count": 1700,
   "metadata": {},
   "outputs": [
    {
     "ename": "RuntimeError",
     "evalue": "Models must be owned by only a single document, UnionRenderers(id='15461', ...) is already in a doc",
     "output_type": "error",
     "traceback": [
      "\u001b[1;31m---------------------------------------------------------------------------\u001b[0m",
      "\u001b[1;31mRuntimeError\u001b[0m                              Traceback (most recent call last)",
      "\u001b[1;32m<ipython-input-1700-f2b249fc7913>\u001b[0m in \u001b[0;36m<module>\u001b[1;34m\u001b[0m\n\u001b[0;32m     15\u001b[0m \u001b[1;33m\u001b[0m\u001b[0m\n\u001b[0;32m     16\u001b[0m \u001b[1;31m# Show the tabbed layout\u001b[0m\u001b[1;33m\u001b[0m\u001b[1;33m\u001b[0m\u001b[0m\n\u001b[1;32m---> 17\u001b[1;33m \u001b[0mshow\u001b[0m\u001b[1;33m(\u001b[0m\u001b[0mtabs\u001b[0m\u001b[1;33m)\u001b[0m\u001b[1;33m\u001b[0m\u001b[0m\n\u001b[0m",
      "\u001b[1;32mc:\\python36\\lib\\site-packages\\bokeh\\io\\showing.py\u001b[0m in \u001b[0;36mshow\u001b[1;34m(obj, browser, new, notebook_handle, notebook_url, **kw)\u001b[0m\n\u001b[0;32m    143\u001b[0m         \u001b[1;32mreturn\u001b[0m \u001b[0mrun_notebook_hook\u001b[0m\u001b[1;33m(\u001b[0m\u001b[0mstate\u001b[0m\u001b[1;33m.\u001b[0m\u001b[0mnotebook_type\u001b[0m\u001b[1;33m,\u001b[0m \u001b[1;34m'app'\u001b[0m\u001b[1;33m,\u001b[0m \u001b[0mobj\u001b[0m\u001b[1;33m,\u001b[0m \u001b[0mstate\u001b[0m\u001b[1;33m,\u001b[0m \u001b[0mnotebook_url\u001b[0m\u001b[1;33m,\u001b[0m \u001b[1;33m**\u001b[0m\u001b[0mkw\u001b[0m\u001b[1;33m)\u001b[0m\u001b[1;33m\u001b[0m\u001b[0m\n\u001b[0;32m    144\u001b[0m \u001b[1;33m\u001b[0m\u001b[0m\n\u001b[1;32m--> 145\u001b[1;33m     \u001b[1;32mreturn\u001b[0m \u001b[0m_show_with_state\u001b[0m\u001b[1;33m(\u001b[0m\u001b[0mobj\u001b[0m\u001b[1;33m,\u001b[0m \u001b[0mstate\u001b[0m\u001b[1;33m,\u001b[0m \u001b[0mbrowser\u001b[0m\u001b[1;33m,\u001b[0m \u001b[0mnew\u001b[0m\u001b[1;33m,\u001b[0m \u001b[0mnotebook_handle\u001b[0m\u001b[1;33m=\u001b[0m\u001b[0mnotebook_handle\u001b[0m\u001b[1;33m)\u001b[0m\u001b[1;33m\u001b[0m\u001b[0m\n\u001b[0m\u001b[0;32m    146\u001b[0m \u001b[1;33m\u001b[0m\u001b[0m\n\u001b[0;32m    147\u001b[0m \u001b[1;31m#-----------------------------------------------------------------------------\u001b[0m\u001b[1;33m\u001b[0m\u001b[1;33m\u001b[0m\u001b[0m\n",
      "\u001b[1;32mc:\\python36\\lib\\site-packages\\bokeh\\io\\showing.py\u001b[0m in \u001b[0;36m_show_with_state\u001b[1;34m(obj, state, browser, new, notebook_handle)\u001b[0m\n\u001b[0;32m    181\u001b[0m \u001b[1;33m\u001b[0m\u001b[0m\n\u001b[0;32m    182\u001b[0m     \u001b[1;32mif\u001b[0m \u001b[0mstate\u001b[0m\u001b[1;33m.\u001b[0m\u001b[0mfile\u001b[0m \u001b[1;32mor\u001b[0m \u001b[1;32mnot\u001b[0m \u001b[0mshown\u001b[0m\u001b[1;33m:\u001b[0m\u001b[1;33m\u001b[0m\u001b[0m\n\u001b[1;32m--> 183\u001b[1;33m         \u001b[0m_show_file_with_state\u001b[0m\u001b[1;33m(\u001b[0m\u001b[0mobj\u001b[0m\u001b[1;33m,\u001b[0m \u001b[0mstate\u001b[0m\u001b[1;33m,\u001b[0m \u001b[0mnew\u001b[0m\u001b[1;33m,\u001b[0m \u001b[0mcontroller\u001b[0m\u001b[1;33m)\u001b[0m\u001b[1;33m\u001b[0m\u001b[0m\n\u001b[0m\u001b[0;32m    184\u001b[0m \u001b[1;33m\u001b[0m\u001b[0m\n\u001b[0;32m    185\u001b[0m     \u001b[1;32mreturn\u001b[0m \u001b[0mcomms_handle\u001b[0m\u001b[1;33m\u001b[0m\u001b[0m\n",
      "\u001b[1;32mc:\\python36\\lib\\site-packages\\bokeh\\io\\showing.py\u001b[0m in \u001b[0;36m_show_file_with_state\u001b[1;34m(obj, state, new, controller)\u001b[0m\n\u001b[0;32m    164\u001b[0m \u001b[1;33m\u001b[0m\u001b[0m\n\u001b[0;32m    165\u001b[0m     '''\n\u001b[1;32m--> 166\u001b[1;33m     \u001b[0mfilename\u001b[0m \u001b[1;33m=\u001b[0m \u001b[0msave\u001b[0m\u001b[1;33m(\u001b[0m\u001b[0mobj\u001b[0m\u001b[1;33m,\u001b[0m \u001b[0mstate\u001b[0m\u001b[1;33m=\u001b[0m\u001b[0mstate\u001b[0m\u001b[1;33m)\u001b[0m\u001b[1;33m\u001b[0m\u001b[0m\n\u001b[0m\u001b[0;32m    167\u001b[0m     \u001b[0mcontroller\u001b[0m\u001b[1;33m.\u001b[0m\u001b[0mopen\u001b[0m\u001b[1;33m(\u001b[0m\u001b[1;34m\"file://\"\u001b[0m \u001b[1;33m+\u001b[0m \u001b[0mfilename\u001b[0m\u001b[1;33m,\u001b[0m \u001b[0mnew\u001b[0m\u001b[1;33m=\u001b[0m\u001b[0mNEW_PARAM\u001b[0m\u001b[1;33m[\u001b[0m\u001b[0mnew\u001b[0m\u001b[1;33m]\u001b[0m\u001b[1;33m)\u001b[0m\u001b[1;33m\u001b[0m\u001b[0m\n\u001b[0;32m    168\u001b[0m \u001b[1;33m\u001b[0m\u001b[0m\n",
      "\u001b[1;32mc:\\python36\\lib\\site-packages\\bokeh\\io\\saving.py\u001b[0m in \u001b[0;36msave\u001b[1;34m(obj, filename, resources, title, template, state, **kwargs)\u001b[0m\n\u001b[0;32m     84\u001b[0m \u001b[1;33m\u001b[0m\u001b[0m\n\u001b[0;32m     85\u001b[0m     \u001b[0mfilename\u001b[0m\u001b[1;33m,\u001b[0m \u001b[0mresources\u001b[0m\u001b[1;33m,\u001b[0m \u001b[0mtitle\u001b[0m \u001b[1;33m=\u001b[0m \u001b[0m_get_save_args\u001b[0m\u001b[1;33m(\u001b[0m\u001b[0mstate\u001b[0m\u001b[1;33m,\u001b[0m \u001b[0mfilename\u001b[0m\u001b[1;33m,\u001b[0m \u001b[0mresources\u001b[0m\u001b[1;33m,\u001b[0m \u001b[0mtitle\u001b[0m\u001b[1;33m)\u001b[0m\u001b[1;33m\u001b[0m\u001b[0m\n\u001b[1;32m---> 86\u001b[1;33m     \u001b[0m_save_helper\u001b[0m\u001b[1;33m(\u001b[0m\u001b[0mobj\u001b[0m\u001b[1;33m,\u001b[0m \u001b[0mfilename\u001b[0m\u001b[1;33m,\u001b[0m \u001b[0mresources\u001b[0m\u001b[1;33m,\u001b[0m \u001b[0mtitle\u001b[0m\u001b[1;33m,\u001b[0m \u001b[0mtemplate\u001b[0m\u001b[1;33m)\u001b[0m\u001b[1;33m\u001b[0m\u001b[0m\n\u001b[0m\u001b[0;32m     87\u001b[0m     \u001b[1;32mreturn\u001b[0m \u001b[0mabspath\u001b[0m\u001b[1;33m(\u001b[0m\u001b[0mfilename\u001b[0m\u001b[1;33m)\u001b[0m\u001b[1;33m\u001b[0m\u001b[0m\n\u001b[0;32m     88\u001b[0m \u001b[1;33m\u001b[0m\u001b[0m\n",
      "\u001b[1;32mc:\\python36\\lib\\site-packages\\bokeh\\io\\saving.py\u001b[0m in \u001b[0;36m_save_helper\u001b[1;34m(obj, filename, resources, title, template)\u001b[0m\n\u001b[0;32m    146\u001b[0m     '''\n\u001b[0;32m    147\u001b[0m     \u001b[1;32mfrom\u001b[0m \u001b[1;33m.\u001b[0m\u001b[1;33m.\u001b[0m\u001b[0membed\u001b[0m \u001b[1;32mimport\u001b[0m \u001b[0mfile_html\u001b[0m\u001b[1;33m\u001b[0m\u001b[0m\n\u001b[1;32m--> 148\u001b[1;33m     \u001b[0mhtml\u001b[0m \u001b[1;33m=\u001b[0m \u001b[0mfile_html\u001b[0m\u001b[1;33m(\u001b[0m\u001b[0mobj\u001b[0m\u001b[1;33m,\u001b[0m \u001b[0mresources\u001b[0m\u001b[1;33m,\u001b[0m \u001b[0mtitle\u001b[0m\u001b[1;33m=\u001b[0m\u001b[0mtitle\u001b[0m\u001b[1;33m,\u001b[0m \u001b[0mtemplate\u001b[0m\u001b[1;33m=\u001b[0m\u001b[0mtemplate\u001b[0m\u001b[1;33m)\u001b[0m\u001b[1;33m\u001b[0m\u001b[0m\n\u001b[0m\u001b[0;32m    149\u001b[0m \u001b[1;33m\u001b[0m\u001b[0m\n\u001b[0;32m    150\u001b[0m     \u001b[1;32mwith\u001b[0m \u001b[0mio\u001b[0m\u001b[1;33m.\u001b[0m\u001b[0mopen\u001b[0m\u001b[1;33m(\u001b[0m\u001b[0mfilename\u001b[0m\u001b[1;33m,\u001b[0m \u001b[0mmode\u001b[0m\u001b[1;33m=\u001b[0m\u001b[1;34m\"w\"\u001b[0m\u001b[1;33m,\u001b[0m \u001b[0mencoding\u001b[0m\u001b[1;33m=\u001b[0m\u001b[1;34m\"utf-8\"\u001b[0m\u001b[1;33m)\u001b[0m \u001b[1;32mas\u001b[0m \u001b[0mf\u001b[0m\u001b[1;33m:\u001b[0m\u001b[1;33m\u001b[0m\u001b[0m\n",
      "\u001b[1;32mc:\\python36\\lib\\site-packages\\bokeh\\embed\\standalone.py\u001b[0m in \u001b[0;36mfile_html\u001b[1;34m(models, resources, title, template, template_variables, theme, suppress_callback_warning, _always_new)\u001b[0m\n\u001b[0;32m    305\u001b[0m         \u001b[0mmodels\u001b[0m \u001b[1;33m=\u001b[0m \u001b[0mmodels\u001b[0m\u001b[1;33m.\u001b[0m\u001b[0mroots\u001b[0m\u001b[1;33m\u001b[0m\u001b[0m\n\u001b[0;32m    306\u001b[0m \u001b[1;33m\u001b[0m\u001b[0m\n\u001b[1;32m--> 307\u001b[1;33m     \u001b[1;32mwith\u001b[0m \u001b[0mOutputDocumentFor\u001b[0m\u001b[1;33m(\u001b[0m\u001b[0mmodels\u001b[0m\u001b[1;33m,\u001b[0m \u001b[0mapply_theme\u001b[0m\u001b[1;33m=\u001b[0m\u001b[0mtheme\u001b[0m\u001b[1;33m,\u001b[0m \u001b[0malways_new\u001b[0m\u001b[1;33m=\u001b[0m\u001b[0m_always_new\u001b[0m\u001b[1;33m)\u001b[0m \u001b[1;32mas\u001b[0m \u001b[0mdoc\u001b[0m\u001b[1;33m:\u001b[0m\u001b[1;33m\u001b[0m\u001b[0m\n\u001b[0m\u001b[0;32m    308\u001b[0m         \u001b[1;33m(\u001b[0m\u001b[0mdocs_json\u001b[0m\u001b[1;33m,\u001b[0m \u001b[0mrender_items\u001b[0m\u001b[1;33m)\u001b[0m \u001b[1;33m=\u001b[0m \u001b[0mstandalone_docs_json_and_render_items\u001b[0m\u001b[1;33m(\u001b[0m\u001b[0mmodels\u001b[0m\u001b[1;33m,\u001b[0m \u001b[0msuppress_callback_warning\u001b[0m\u001b[1;33m=\u001b[0m\u001b[0msuppress_callback_warning\u001b[0m\u001b[1;33m)\u001b[0m\u001b[1;33m\u001b[0m\u001b[0m\n\u001b[0;32m    309\u001b[0m         \u001b[0mtitle\u001b[0m \u001b[1;33m=\u001b[0m \u001b[0m_title_from_models\u001b[0m\u001b[1;33m(\u001b[0m\u001b[0mmodels\u001b[0m\u001b[1;33m,\u001b[0m \u001b[0mtitle\u001b[0m\u001b[1;33m)\u001b[0m\u001b[1;33m\u001b[0m\u001b[0m\n",
      "\u001b[1;32mc:\\python36\\lib\\contextlib.py\u001b[0m in \u001b[0;36m__enter__\u001b[1;34m(self)\u001b[0m\n\u001b[0;32m     79\u001b[0m     \u001b[1;32mdef\u001b[0m \u001b[0m__enter__\u001b[0m\u001b[1;33m(\u001b[0m\u001b[0mself\u001b[0m\u001b[1;33m)\u001b[0m\u001b[1;33m:\u001b[0m\u001b[1;33m\u001b[0m\u001b[0m\n\u001b[0;32m     80\u001b[0m         \u001b[1;32mtry\u001b[0m\u001b[1;33m:\u001b[0m\u001b[1;33m\u001b[0m\u001b[0m\n\u001b[1;32m---> 81\u001b[1;33m             \u001b[1;32mreturn\u001b[0m \u001b[0mnext\u001b[0m\u001b[1;33m(\u001b[0m\u001b[0mself\u001b[0m\u001b[1;33m.\u001b[0m\u001b[0mgen\u001b[0m\u001b[1;33m)\u001b[0m\u001b[1;33m\u001b[0m\u001b[0m\n\u001b[0m\u001b[0;32m     82\u001b[0m         \u001b[1;32mexcept\u001b[0m \u001b[0mStopIteration\u001b[0m\u001b[1;33m:\u001b[0m\u001b[1;33m\u001b[0m\u001b[0m\n\u001b[0;32m     83\u001b[0m             \u001b[1;32mraise\u001b[0m \u001b[0mRuntimeError\u001b[0m\u001b[1;33m(\u001b[0m\u001b[1;34m\"generator didn't yield\"\u001b[0m\u001b[1;33m)\u001b[0m \u001b[1;32mfrom\u001b[0m \u001b[1;32mNone\u001b[0m\u001b[1;33m\u001b[0m\u001b[0m\n",
      "\u001b[1;32mc:\\python36\\lib\\site-packages\\bokeh\\embed\\util.py\u001b[0m in \u001b[0;36mOutputDocumentFor\u001b[1;34m(objs, apply_theme, always_new)\u001b[0m\n\u001b[0;32m    136\u001b[0m             \u001b[0mdoc\u001b[0m \u001b[1;33m=\u001b[0m \u001b[0mDocument\u001b[0m\u001b[1;33m(\u001b[0m\u001b[1;33m)\u001b[0m\u001b[1;33m\u001b[0m\u001b[0m\n\u001b[0;32m    137\u001b[0m             \u001b[1;32mfor\u001b[0m \u001b[0mmodel\u001b[0m \u001b[1;32min\u001b[0m \u001b[0mobjs\u001b[0m\u001b[1;33m:\u001b[0m\u001b[1;33m\u001b[0m\u001b[0m\n\u001b[1;32m--> 138\u001b[1;33m                 \u001b[0mdoc\u001b[0m\u001b[1;33m.\u001b[0m\u001b[0madd_root\u001b[0m\u001b[1;33m(\u001b[0m\u001b[0mmodel\u001b[0m\u001b[1;33m)\u001b[0m\u001b[1;33m\u001b[0m\u001b[0m\n\u001b[0m\u001b[0;32m    139\u001b[0m \u001b[1;33m\u001b[0m\u001b[0m\n\u001b[0;32m    140\u001b[0m         \u001b[1;31m# handle a single shared document\u001b[0m\u001b[1;33m\u001b[0m\u001b[1;33m\u001b[0m\u001b[0m\n",
      "\u001b[1;32mc:\\python36\\lib\\site-packages\\bokeh\\document\\document.py\u001b[0m in \u001b[0;36madd_root\u001b[1;34m(self, model, setter)\u001b[0m\n\u001b[0;32m    302\u001b[0m             \u001b[0mself\u001b[0m\u001b[1;33m.\u001b[0m\u001b[0m_roots\u001b[0m\u001b[1;33m.\u001b[0m\u001b[0mappend\u001b[0m\u001b[1;33m(\u001b[0m\u001b[0mmodel\u001b[0m\u001b[1;33m)\u001b[0m\u001b[1;33m\u001b[0m\u001b[0m\n\u001b[0;32m    303\u001b[0m         \u001b[1;32mfinally\u001b[0m\u001b[1;33m:\u001b[0m\u001b[1;33m\u001b[0m\u001b[0m\n\u001b[1;32m--> 304\u001b[1;33m             \u001b[0mself\u001b[0m\u001b[1;33m.\u001b[0m\u001b[0m_pop_all_models_freeze\u001b[0m\u001b[1;33m(\u001b[0m\u001b[1;33m)\u001b[0m\u001b[1;33m\u001b[0m\u001b[0m\n\u001b[0m\u001b[0;32m    305\u001b[0m         \u001b[0mself\u001b[0m\u001b[1;33m.\u001b[0m\u001b[0m_trigger_on_change\u001b[0m\u001b[1;33m(\u001b[0m\u001b[0mRootAddedEvent\u001b[0m\u001b[1;33m(\u001b[0m\u001b[0mself\u001b[0m\u001b[1;33m,\u001b[0m \u001b[0mmodel\u001b[0m\u001b[1;33m,\u001b[0m \u001b[0msetter\u001b[0m\u001b[1;33m)\u001b[0m\u001b[1;33m)\u001b[0m\u001b[1;33m\u001b[0m\u001b[0m\n\u001b[0;32m    306\u001b[0m \u001b[1;33m\u001b[0m\u001b[0m\n",
      "\u001b[1;32mc:\\python36\\lib\\site-packages\\bokeh\\document\\document.py\u001b[0m in \u001b[0;36m_pop_all_models_freeze\u001b[1;34m(self)\u001b[0m\n\u001b[0;32m   1016\u001b[0m         \u001b[0mself\u001b[0m\u001b[1;33m.\u001b[0m\u001b[0m_all_models_freeze_count\u001b[0m \u001b[1;33m-=\u001b[0m \u001b[1;36m1\u001b[0m\u001b[1;33m\u001b[0m\u001b[0m\n\u001b[0;32m   1017\u001b[0m         \u001b[1;32mif\u001b[0m \u001b[0mself\u001b[0m\u001b[1;33m.\u001b[0m\u001b[0m_all_models_freeze_count\u001b[0m \u001b[1;33m==\u001b[0m \u001b[1;36m0\u001b[0m\u001b[1;33m:\u001b[0m\u001b[1;33m\u001b[0m\u001b[0m\n\u001b[1;32m-> 1018\u001b[1;33m             \u001b[0mself\u001b[0m\u001b[1;33m.\u001b[0m\u001b[0m_recompute_all_models\u001b[0m\u001b[1;33m(\u001b[0m\u001b[1;33m)\u001b[0m\u001b[1;33m\u001b[0m\u001b[0m\n\u001b[0m\u001b[0;32m   1019\u001b[0m \u001b[1;33m\u001b[0m\u001b[0m\n\u001b[0;32m   1020\u001b[0m     \u001b[1;32mdef\u001b[0m \u001b[0m_recompute_all_models\u001b[0m\u001b[1;33m(\u001b[0m\u001b[0mself\u001b[0m\u001b[1;33m)\u001b[0m\u001b[1;33m:\u001b[0m\u001b[1;33m\u001b[0m\u001b[0m\n",
      "\u001b[1;32mc:\\python36\\lib\\site-packages\\bokeh\\document\\document.py\u001b[0m in \u001b[0;36m_recompute_all_models\u001b[1;34m(self)\u001b[0m\n\u001b[0;32m   1039\u001b[0m             \u001b[0md\u001b[0m\u001b[1;33m.\u001b[0m\u001b[0m_detach_document\u001b[0m\u001b[1;33m(\u001b[0m\u001b[1;33m)\u001b[0m\u001b[1;33m\u001b[0m\u001b[0m\n\u001b[0;32m   1040\u001b[0m         \u001b[1;32mfor\u001b[0m \u001b[0ma\u001b[0m \u001b[1;32min\u001b[0m \u001b[0mto_attach\u001b[0m\u001b[1;33m:\u001b[0m\u001b[1;33m\u001b[0m\u001b[0m\n\u001b[1;32m-> 1041\u001b[1;33m             \u001b[0ma\u001b[0m\u001b[1;33m.\u001b[0m\u001b[0m_attach_document\u001b[0m\u001b[1;33m(\u001b[0m\u001b[0mself\u001b[0m\u001b[1;33m)\u001b[0m\u001b[1;33m\u001b[0m\u001b[0m\n\u001b[0m\u001b[0;32m   1042\u001b[0m         \u001b[0mself\u001b[0m\u001b[1;33m.\u001b[0m\u001b[0m_all_models\u001b[0m \u001b[1;33m=\u001b[0m \u001b[0mrecomputed\u001b[0m\u001b[1;33m\u001b[0m\u001b[0m\n\u001b[0;32m   1043\u001b[0m         \u001b[0mself\u001b[0m\u001b[1;33m.\u001b[0m\u001b[0m_all_models_by_name\u001b[0m \u001b[1;33m=\u001b[0m \u001b[0mrecomputed_by_name\u001b[0m\u001b[1;33m\u001b[0m\u001b[0m\n",
      "\u001b[1;32mc:\\python36\\lib\\site-packages\\bokeh\\model.py\u001b[0m in \u001b[0;36m_attach_document\u001b[1;34m(self, doc)\u001b[0m\n\u001b[0;32m    710\u001b[0m         '''\n\u001b[0;32m    711\u001b[0m         \u001b[1;32mif\u001b[0m \u001b[0mself\u001b[0m\u001b[1;33m.\u001b[0m\u001b[0m_document\u001b[0m \u001b[1;32mis\u001b[0m \u001b[1;32mnot\u001b[0m \u001b[1;32mNone\u001b[0m \u001b[1;32mand\u001b[0m \u001b[0mself\u001b[0m\u001b[1;33m.\u001b[0m\u001b[0m_document\u001b[0m \u001b[1;32mis\u001b[0m \u001b[1;32mnot\u001b[0m \u001b[0mdoc\u001b[0m\u001b[1;33m:\u001b[0m\u001b[1;33m\u001b[0m\u001b[0m\n\u001b[1;32m--> 712\u001b[1;33m             \u001b[1;32mraise\u001b[0m \u001b[0mRuntimeError\u001b[0m\u001b[1;33m(\u001b[0m\u001b[1;34m\"Models must be owned by only a single document, %r is already in a doc\"\u001b[0m \u001b[1;33m%\u001b[0m \u001b[1;33m(\u001b[0m\u001b[0mself\u001b[0m\u001b[1;33m)\u001b[0m\u001b[1;33m)\u001b[0m\u001b[1;33m\u001b[0m\u001b[0m\n\u001b[0m\u001b[0;32m    713\u001b[0m         \u001b[0mdoc\u001b[0m\u001b[1;33m.\u001b[0m\u001b[0mtheme\u001b[0m\u001b[1;33m.\u001b[0m\u001b[0mapply_to_model\u001b[0m\u001b[1;33m(\u001b[0m\u001b[0mself\u001b[0m\u001b[1;33m)\u001b[0m\u001b[1;33m\u001b[0m\u001b[0m\n\u001b[0;32m    714\u001b[0m         \u001b[0mself\u001b[0m\u001b[1;33m.\u001b[0m\u001b[0m_document\u001b[0m \u001b[1;33m=\u001b[0m \u001b[0mdoc\u001b[0m\u001b[1;33m\u001b[0m\u001b[0m\n",
      "\u001b[1;31mRuntimeError\u001b[0m: Models must be owned by only a single document, UnionRenderers(id='15461', ...) is already in a doc"
     ]
    }
   ],
   "source": [
    "# Output to file\n",
    "output_file('EPL Season 2011-2019.html', \n",
    "            title=\"Let's See\")\n",
    "\n",
    "#Increase the plot widths\n",
    "points_fig.plot_width = 800\n",
    "\n",
    "# Create two panels, one for each conference\n",
    "goals_panel = Panel(child=goals_fig, title='Goals by Season')\n",
    "#points_panel = Panel(child=points_fig, title='Points by Season')\n",
    "# = Panel(child=results_fig, title='Results by Team')\n",
    "\n",
    "# Assign the panels to Tabs\n",
    "tabs = Tabs(tabs=[goals_panel])\n",
    "\n",
    "# Show the tabbed layout\n",
    "show(tabs)"
   ]
  },
  {
   "cell_type": "code",
   "execution_count": null,
   "metadata": {},
   "outputs": [],
   "source": []
  },
  {
   "cell_type": "code",
   "execution_count": null,
   "metadata": {},
   "outputs": [],
   "source": []
  }
 ],
 "metadata": {
  "kernelspec": {
   "display_name": "Python 3",
   "language": "python",
   "name": "python3"
  },
  "language_info": {
   "codemirror_mode": {
    "name": "ipython",
    "version": 3
   },
   "file_extension": ".py",
   "mimetype": "text/x-python",
   "name": "python",
   "nbconvert_exporter": "python",
   "pygments_lexer": "ipython3",
   "version": "3.6.5"
  }
 },
 "nbformat": 4,
 "nbformat_minor": 2
}
