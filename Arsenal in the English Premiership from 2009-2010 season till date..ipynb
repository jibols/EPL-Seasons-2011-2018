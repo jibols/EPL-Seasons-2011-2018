{
 "cells": [
  {
   "cell_type": "markdown",
   "metadata": {},
   "source": [
    "# Arsenal in the English Premiership  from 2009-2010 season till date.\n",
    "\n",
    "This project is an analysis and visualization of the performance of Arsenal Football Club over the last 10 seasons in the English Premiership. The datasets used in this project have been pulled from https://datahub.io/sports-data/english-premier-league#data. The performance measures of interest are:\n",
    "i. Win percentage against each of the teams faced in the 10 season period\n",
    "ii. Win percentage by the officiating referees ....."
   ]
  },
  {
   "cell_type": "markdown",
   "metadata": {},
   "source": [
    "### Import required libraries for data analysis and visualization.\n",
    "Pandas is required for data analysis and \n",
    "Bokeh is required for data visualization"
   ]
  },
  {
   "cell_type": "code",
   "execution_count": 3,
   "metadata": {},
   "outputs": [],
   "source": [
    "#Import required libraries\n",
    "import pandas as pd\n",
    "import numpy as np\n",
    "import matplotlib.pyplot as plt\n",
    "from bokeh.io import show, output_file\n",
    "from bokeh.plotting import figure, gmap\n",
    "from bokeh.models import ColumnDataSource,GMapOptions, HoverTool\n",
    "from bokeh.models.glyphs import MultiLine\n",
    "from bokeh.plotting import figure, show, output_notebook\n",
    "from bokeh.tile_providers import get_provider, Vendors\n",
    "# Bokeh Library\n",
    "from bokeh.models import HoverTool\n",
    "%matplotlib inline"
   ]
  },
  {
   "cell_type": "markdown",
   "metadata": {},
   "source": [
    "### Read in data from url"
   ]
  },
  {
   "cell_type": "code",
   "execution_count": null,
   "metadata": {},
   "outputs": [],
   "source": [
    "season_one = pd.read_csv(https://datahub.io/sports-data/english-premier-league/r/season-0910.csv, parse_dates=['Date'])\n",
    "season_two = pd.read_csv(https://datahub.io/sports-data/english-premier-league/r/season-1011.csv, parse_dates=['Date'])   \n",
    "season_three = pd.read_csv(https://datahub.io/sports-data/english-premier-league/r/season-1112.csv, parse_dates=['Date'])\n",
    "season_four = pd.read_csv(https://datahub.io/sports-data/english-premier-league/r/season-1213.csv, parse_dates=['Date']) \n",
    "season_five = pd.read_csv(https://datahub.io/sports-data/english-premier-league/r/season-1314.csv, parse_dates=['Date'])\n",
    "season_six = pd.read_csv(https://datahub.io/sports-data/english-premier-league/r/season-1415.csv, parse_dates=['Date'])\n",
    "season_seven = pd.read_csv(https://datahub.io/sports-data/english-premier-league/r/season-1516.csv, parse_dates=['Date']) \n",
    "season_eight = pd.read_csv(https://datahub.io/sports-data/english-premier-league/r/season-1617.csv, parse_dates=['Date'])\n",
    "season_nine = pd.read_csv(https://datahub.io/sports-data/english-premier-league/r/season-1718.csv, parse_dates=['Date'])   \n",
    "season_ten = pd.read_csv(https://datahub.io/sports-data/english-premier-league/r/season-1819.csv, parse_dates=['Date'])"
   ]
  },
  {
   "cell_type": "markdown",
   "metadata": {},
   "source": [
    "### Merge all 10 dataframes into a single dataframe"
   ]
  },
  {
   "cell_type": "code",
   "execution_count": 429,
   "metadata": {},
   "outputs": [],
   "source": [
    "allseasons = pd.concat([season_one,season_two,season_three,season_four,season_five,season_six,season_seven,season_eight,\n",
    "                       season_nine, season_ten])      "
   ]
  },
  {
   "cell_type": "markdown",
   "metadata": {},
   "source": [
    "### Enrich Data  by retrieving the stadium locations for each team in the dataset \n",
    "Pull data from the Wikipedia page entry for the <a href=\"https://en.wikipedia.org/wiki/List_of_Premier_League_stadiums\">Premier League Stadia</a>."
   ]
  },
  {
   "cell_type": "code",
   "execution_count": 545,
   "metadata": {},
   "outputs": [],
   "source": [
    "# Enrich data by adding stadium location\n",
    "clubs_to_drop = ['Oldham Athletic','Ipswich Town','Charlton Athletic','Bradford City', 'Swindon Town', 'Nottingham Forest', 'Barnsley',\\\n",
    "                 'Ipswich Town', 'Leeds United', 'Sheffield Wednesday', 'Sheffield United', 'Derby County']\n",
    "stadia = pd.read_html(\"https://en.wikipedia.org/wiki/List_of_Premier_League_stadiums\", header = 0)\n",
    "columns = ['Club','Stadium','Coordinates', 'Closed', 'Opened']\n",
    "stadia = stadia[0][columns]\n",
    "stadia = stadia[~stadia['Closed'].isin([2006,1995,2004,1997,2001,2002,2005,2003])].reset_index(drop = True)\n",
    "stadia = stadia[~stadia['Club'].isin(clubs_to_drop)].reset_index(drop = True)\n",
    "\n",
    "# Clean Club columns for Queens Park Rangers and Crystal Palace\n",
    "stadia['Club'].replace(\"Crystal Palace & Wimbledon\", \"Crystal Palace\", inplace = True)\n",
    "stadia['Club'].replace(\"Queens Park Rangers& Fulham\", \"Queens Park Rangers\", inplace = True)\n",
    "\n",
    "# Update the club names in the allseason dataframe to the full names of the clubs\n",
    "allseasons['HomeTeam'].replace(np.sort(allseasons['HomeTeam'].unique()), np.sort(stadia['Club'].unique()), inplace = True)\n",
    "allseasons['AwayTeam'].replace(np.sort(allseasons['AwayTeam'].unique()), np.sort(stadia['Club'].unique()), inplace = True)\n",
    "stadia.drop_duplicates(subset =\"Club\",inplace=True)"
   ]
  },
  {
   "cell_type": "markdown",
   "metadata": {},
   "source": [
    "### Utility functions to clean the data\n",
    "Functions check_latitude and check_longitutde extract the geo-coordinates from the Coordinates column in the dataframe"
   ]
  },
  {
   "cell_type": "code",
   "execution_count": 546,
   "metadata": {},
   "outputs": [],
   "source": [
    "import math\n",
    "def check_latitude(row):\n",
    "    #latitude = \"\"\n",
    "    longitude = \"-\"\n",
    "    r_major = 6378137.000\n",
    "    #latitude += row['Coordinates'].split('/')[1].split(\" \")[1].replace(u'\\ufeff', '')\n",
    "    longitude += row['Coordinates'].split('/')[1].split(\" \")[2].replace(u'\\ufeff', '')\n",
    "    #latitude = float(longitude[:-2])\n",
    "    longitude = float(longitude[:-2])\n",
    "    x = r_major * math.radians(longitude)\n",
    "    return x    \n",
    "    \n",
    "def check_longitude(row):\n",
    "    latitude = \"\"\n",
    "    longitude = \"-\"\n",
    "    r_major = 6378137.000\n",
    "    latitude += row['Coordinates'].split('/')[1].split(\" \")[1].replace(u'\\ufeff', '')\n",
    "    longitude += row['Coordinates'].split('/')[1].split(\" \")[2].replace(u'\\ufeff', '')\n",
    "    longitude = float(longitude[:-2])\n",
    "    latitude = float(latitude[:-2])\n",
    "    x = r_major * math.radians(longitude)\n",
    "    scale = x/longitude    \n",
    "    y  = 180.0 / math.pi * math.log(math.tan(math.pi/4.0 + latitude * (math.pi/180)/2.0)) * scale\n",
    "    return y"
   ]
  },
  {
   "cell_type": "code",
   "execution_count": 547,
   "metadata": {},
   "outputs": [],
   "source": [
    "# Process the Coordinates columns and split to Latitude and Lonigtude Columns\n",
    "stadia.loc[:, 'Y_Coords'] = stadia.apply(check_longitude, axis = 1)\n",
    "stadia.loc[:, 'X_Coords'] = stadia.apply(check_latitude, axis = 1)\n",
    "to_drop = ['Coordinates','Closed','Opened']\n",
    "stadia.drop(to_drop, axis=1, inplace = True)\n",
    "stadia.sort_values(by=['Club'], inplace = True)\n",
    "stadia.set_index('Club', inplace = True)"
   ]
  },
  {
   "cell_type": "markdown",
   "metadata": {},
   "source": [
    "### Select games where Arsenal played home or away : 38 per season i.e 380 games in total"
   ]
  },
  {
   "cell_type": "code",
   "execution_count": 548,
   "metadata": {},
   "outputs": [],
   "source": [
    "allseasonsArsenal = allseasons[(allseasons['AwayTeam'] == 'Arsenal') | (allseasons['HomeTeam'] == 'Arsenal')]"
   ]
  },
  {
   "cell_type": "markdown",
   "metadata": {},
   "source": [
    "### Quick plot showing the referees who have officiated who have officiated Arsenal games"
   ]
  },
  {
   "cell_type": "code",
   "execution_count": 549,
   "metadata": {},
   "outputs": [
    {
     "data": {
      "text/plain": [
       "<matplotlib.axes._subplots.AxesSubplot at 0x26b7f02ec50>"
      ]
     },
     "execution_count": 549,
     "metadata": {},
     "output_type": "execute_result"
    },
    {
     "data": {
      "image/png": "[encoded data removed]",
      "text/plain": [
       "<Figure size 432x288 with 1 Axes>"
      ]
     },
     "metadata": {},
     "output_type": "display_data"
    }
   ],
   "source": [
    "allseasonsArsenal.groupby(['Referee']).size().nlargest(10).plot(kind='bar')"
   ]
  },
  {
   "cell_type": "markdown",
   "metadata": {},
   "source": [
    "### Check the result type: W for Win , D for draw and L for Loss"
   ]
  },
  {
   "cell_type": "code",
   "execution_count": 550,
   "metadata": {},
   "outputs": [],
   "source": [
    "def check_results(row):\n",
    "    result = \"\"\n",
    "    res = row['FTR']\n",
    "    team1 = row['HomeTeam']\n",
    "    team2 = row['AwayTeam']\n",
    "    if (team1 == 'Arsenal') & (res == 'H'):\n",
    "        result = 'W'\n",
    "    elif (team1 == 'Arsenal') & (res == 'A'):\n",
    "        result = 'L'\n",
    "    elif (team2 == 'Arsenal') & (res == 'A'):\n",
    "        result = 'W'\n",
    "    elif (team2 == 'Arsenal') & (res == 'H'):\n",
    "        result = 'L'\n",
    "    else:\n",
    "        result = 'D'       \n",
    "\n",
    "    return result"
   ]
  },
  {
   "cell_type": "markdown",
   "metadata": {},
   "source": [
    "### Function to assign points to the result: 1 Point for Draw/Tie, 0 Points for a loass and 3 points for a win"
   ]
  },
  {
   "cell_type": "code",
   "execution_count": 551,
   "metadata": {},
   "outputs": [],
   "source": [
    "def check_points(row):\n",
    "    points = 0\n",
    "    result = row['Result']\n",
    "    if result == 'D':\n",
    "        points = 1\n",
    "    elif result == 'W':\n",
    "        points = 3\n",
    "    else:\n",
    "        points = 0    \n",
    "    return points"
   ]
  },
  {
   "cell_type": "markdown",
   "metadata": {},
   "source": [
    "### Determine the season the match was played based on the date interval. Season  starts in August and ends in May "
   ]
  },
  {
   "cell_type": "code",
   "execution_count": 552,
   "metadata": {},
   "outputs": [],
   "source": [
    "def check_season(row):\n",
    "    season = \"\"\n",
    "    date = row['Date']\n",
    "    if (date >= pd.to_datetime('2009-08-15')) & (date <= pd.to_datetime('2010-05-21')):\n",
    "        season += \"09-10\"\n",
    "    elif (date >= pd.to_datetime('2010-08-10')) & (date <= pd.to_datetime('2011-05-23')):\n",
    "        season += \"10-11\"\n",
    "    elif (date >= pd.to_datetime('2011-08-13')) & (date <= pd.to_datetime('2012-05-23')):\n",
    "        season += \"11-12\"\n",
    "    elif (date >= pd.to_datetime(\"2012-08-18\")) & (date <= pd.to_datetime(\"2013-05-19\")): \n",
    "        season += \"12-13\" \n",
    "    elif (date >= pd.to_datetime(\"2013-08-17\")) & (date <= pd.to_datetime(\"2014-05-11\")): \n",
    "        season += \"13-14\" \n",
    "    elif (date >= pd.to_datetime(\"2014-08-16\")) & (date <= pd.to_datetime(\"2015-05-24\")): \n",
    "        season += \"14-15\" \n",
    "    elif (date >= pd.to_datetime(\"2015-08-08\")) & (date <= pd.to_datetime(\"2016-05-15\")): \n",
    "        season += \"15-16\" \n",
    "    elif (date >= pd.to_datetime(\"2016-08-13\")) & (date <= pd.to_datetime(\"2017-05-21\")): \n",
    "        season += \"16-17\" \n",
    "    elif (date >= pd.to_datetime(\"2017-08-11\")) & (date <= pd.to_datetime(\"2018-05-13\")):\n",
    "        season += \"17-18\"\n",
    "    elif (date >= pd.to_datetime(\"2018-08-05\")) & (date <= pd.to_datetime(\"2019-05-20\")):\n",
    "        season += \"18-19\"\n",
    "    else:\n",
    "        season = season\n",
    "    return season"
   ]
  },
  {
   "cell_type": "markdown",
   "metadata": {},
   "source": [
    "### Create new columns for results, pints, season and progress(The Sum of points accrued per season)"
   ]
  },
  {
   "cell_type": "code",
   "execution_count": 555,
   "metadata": {},
   "outputs": [],
   "source": [
    "allseasonsArsenal.loc[:, 'Result'] = allseasonsArsenal.apply(check_results, axis = 1)\n",
    "allseasonsArsenal.loc[:, 'Points'] = allseasonsArsenal.apply(check_points, axis = 1)\n",
    "allseasonsArsenal.loc[:, 'Season'] = allseasonsArsenal.apply(check_season, axis = 1)\n",
    "allseasonsArsenal.loc[:, 'Progress'] = allseasonsArsenal.groupby('Season')['Points'].cumsum() "
   ]
  },
  {
   "cell_type": "markdown",
   "metadata": {},
   "source": [
    "### Function to calculate the results by the referee who officiated"
   ]
  },
  {
   "cell_type": "code",
   "execution_count": 556,
   "metadata": {},
   "outputs": [],
   "source": [
    "def win_percent_by_referee(df):\n",
    "    temp = pd.DataFrame({'count' : df.groupby( [ 'Referee', 'Results'] )['Referee'].size()}).reset_index()\n",
    "    temp['count'].astype(int)\n",
    "    temp['Percent'] = round(temp.groupby('Referee')['count'].transform(lambda x: x/sum(x) * 100))\n",
    "    temp = pd.pivot_table(temp, values='Percent', index=['Referee'],columns=['Results'], aggfunc=np.sum)\n",
    "    temp.columns = ['Draw%', 'Loss%', 'Win%']\n",
    "    temp.fillna(0,inplace=True)\n",
    "    print (str(len(df['Referee'].unique())) + \" referees officiated matches in the \" + \n",
    "           str(len(allseasonsArsenal['Season'].unique())) + \" seasons\")\n",
    "    return temp"
   ]
  },
  {
   "cell_type": "code",
   "execution_count": 557,
   "metadata": {},
   "outputs": [],
   "source": [
    "# Find win, draw, loss, goald for, goals against, goal difference and points by season\n",
    "results = pd.DataFrame({'Count' : allseasonsArsenal.groupby(['Season', 'Result']).size()}).reset_index()\n",
    "results = pd.pivot_table(results, values='Count', index=['Season'],columns=['Result'], aggfunc=np.sum)"
   ]
  },
  {
   "cell_type": "code",
   "execution_count": 558,
   "metadata": {},
   "outputs": [],
   "source": [
    "# Calculate the total results against all teams per season\n",
    "def results_by_team(df):\n",
    "    away = df.groupby(['AwayTeam','HomeTeam','Result']).size().to_frame('size')\n",
    "    away = pd.pivot_table(away, values='size', index=['HomeTeam'],columns=['Result'], aggfunc=np.sum)\n",
    "    away.fillna(0,inplace=True)\n",
    "    home = df.groupby(['HomeTeam','AwayTeam','Result']).size().to_frame('size')\n",
    "    home = pd.pivot_table(home, values='size', index=['AwayTeam'],columns=['Result'], aggfunc=np.sum)\n",
    "    home.fillna(0,inplace=True)\n",
    "    temp = away.add(home, fill_value=0)\n",
    "    temp['Win%'] = round((temp['W']/ temp.sum(axis = 1)) * 100, 1)\n",
    "    temp.drop(['Arsenal'], inplace=True)\n",
    "    print (\"Arsenal played against \" + str(len(allseasonsArsenal['HomeTeam'].unique())) + \" teams in the \" + \n",
    "       str(len(allseasonsArsenal['Season'].unique())) + \" seasons\")\n",
    "    print (\"Arsenal won \"+str(allseasonsArsenal.groupby(['Result']).size().to_frame('size').loc['W'][0]) + \" games, drew \"\n",
    "           + str(allseasonsArsenal.groupby(['Result']).size().to_frame('size').loc['D'][0])\n",
    "           +\" games and lost \" + str(allseasonsArsenal.groupby(['Result']).size().to_frame('size').loc['L'][0])\n",
    "           + \" games in the \" + str(len(allseasonsArsenal['Season'].unique())) + \" seasons\")\n",
    "    return temp"
   ]
  },
  {
   "cell_type": "code",
   "execution_count": 585,
   "metadata": {},
   "outputs": [],
   "source": [
    "# Extend results by team to break the results down into HomeWins and Away wins\n",
    "def ex_results_by_team(df):\n",
    "    away = df.groupby(['AwayTeam','HomeTeam','Result']).size().to_frame('size')\n",
    "    away = pd.pivot_table(away, values='size', index=['HomeTeam'],columns=['Result'], aggfunc=np.sum)\n",
    "    away.fillna(0,inplace=True)\n",
    "    home = df.groupby(['HomeTeam','AwayTeam','Result']).size().to_frame('size')\n",
    "    home = pd.pivot_table(home, values='size', index=['AwayTeam'],columns=['Result'], aggfunc=np.sum)\n",
    "    home.fillna(0,inplace=True)\n",
    "    home['W%'] = round((home['W']/ home.sum(axis = 1)) * 100, 1)\n",
    "    away['W%'] = round((away['W']/ away.sum(axis=1)) * 100, 1)\n",
    "    cols = ['D','L','W']\n",
    "    home['Home Games'] = home[cols].sum(axis=1).astype(int)\n",
    "    away['Away Games'] = away[cols].sum(axis=1).astype(int)\n",
    "    home.columns = [\"Home Draw\",\"Home Loss\",\"Home Win\",\"HomeWinPct\", \"HomeGames\"]\n",
    "    away.columns = [\"Away Draw\",\"Away Loss\",\"Away Win\",\"AwayWinPct\", \"AwayGames\"]\n",
    "                    \n",
    "    # Insert the stadium location(Coordinates) as two columns\n",
    "    ars_combined = pd.concat([home, away] ,axis=1)\n",
    "    # Merge with the stadia dataset\n",
    "    ars_combined = ars_combined.join(stadia)\n",
    "    return ars_combined"
   ]
  },
  {
   "cell_type": "code",
   "execution_count": 593,
   "metadata": {},
   "outputs": [
    {
     "data": {
      "text/html": [
       "\n",
       "    <div class=\"bk-root\">\n",
       "        <a href=\"https://bokeh.pydata.org\" target=\"_blank\" class=\"bk-logo bk-logo-small bk-logo-notebook\"></a>\n",
       "        <span id=\"50966\">Loading BokehJS ...</span>\n",
       "    </div>"
      ]
     },
     "metadata": {},
     "output_type": "display_data"
    },
    {
     "data": {
      "application/javascript": [
       "\n",
       "(function(root) {\n",
       "  function now() {\n",
       "    return new Date();\n",
       "  }\n",
       "\n",
       "  var force = true;\n",
       "\n",
       "  if (typeof root._bokeh_onload_callbacks === \"undefined\" || force === true) {\n",
       "    root._bokeh_onload_callbacks = [];\n",
       "    root._bokeh_is_loading = undefined;\n",
       "  }\n",
       "\n",
       "  var JS_MIME_TYPE = 'application/javascript';\n",
       "  var HTML_MIME_TYPE = 'text/html';\n",
       "  var EXEC_MIME_TYPE = 'application/vnd.bokehjs_exec.v0+json';\n",
       "  var CLASS_NAME = 'output_bokeh rendered_html';\n",
       "\n",
       "  /**\n",
       "   * Render data to the DOM node\n",
       "   */\n",
       "  function render(props, node) {\n",
       "    var script = document.createElement(\"script\");\n",
       "    node.appendChild(script);\n",
       "  }\n",
       "\n",
       "  /**\n",
       "   * Handle when an output is cleared or removed\n",
       "   */\n",
       "  function handleClearOutput(event, handle) {\n",
       "    var cell = handle.cell;\n",
       "\n",
       "    var id = cell.output_area._bokeh_element_id;\n",
       "    var server_id = cell.output_area._bokeh_server_id;\n",
       "    // Clean up Bokeh references\n",
       "    if (id != null && id in Bokeh.index) {\n",
       "      Bokeh.index[id].model.document.clear();\n",
       "      delete Bokeh.index[id];\n",
       "    }\n",
       "\n",
       "    if (server_id !== undefined) {\n",
       "      // Clean up Bokeh references\n",
       "      var cmd = \"from bokeh.io.state import curstate; print(curstate().uuid_to_server['\" + server_id + \"'].get_sessions()[0].document.roots[0]._id)\";\n",
       "      cell.notebook.kernel.execute(cmd, {\n",
       "        iopub: {\n",
       "          output: function(msg) {\n",
       "            var id = msg.content.text.trim();\n",
       "            if (id in Bokeh.index) {\n",
       "              Bokeh.index[id].model.document.clear();\n",
       "              delete Bokeh.index[id];\n",
       "            }\n",
       "          }\n",
       "        }\n",
       "      });\n",
       "      // Destroy server and session\n",
       "      var cmd = \"import bokeh.io.notebook as ion; ion.destroy_server('\" + server_id + \"')\";\n",
       "      cell.notebook.kernel.execute(cmd);\n",
       "    }\n",
       "  }\n",
       "\n",
       "  /**\n",
       "   * Handle when a new output is added\n",
       "   */\n",
       "  function handleAddOutput(event, handle) {\n",
       "    var output_area = handle.output_area;\n",
       "    var output = handle.output;\n",
       "\n",
       "    // limit handleAddOutput to display_data with EXEC_MIME_TYPE content only\n",
       "    if ((output.output_type != \"display_data\") || (!output.data.hasOwnProperty(EXEC_MIME_TYPE))) {\n",
       "      return\n",
       "    }\n",
       "\n",
       "    var toinsert = output_area.element.find(\".\" + CLASS_NAME.split(' ')[0]);\n",
       "\n",
       "    if (output.metadata[EXEC_MIME_TYPE][\"id\"] !== undefined) {\n",
       "      toinsert[toinsert.length - 1].firstChild.textContent = output.data[JS_MIME_TYPE];\n",
       "      // store reference to embed id on output_area\n",
       "      output_area._bokeh_element_id = output.metadata[EXEC_MIME_TYPE][\"id\"];\n",
       "    }\n",
       "    if (output.metadata[EXEC_MIME_TYPE][\"server_id\"] !== undefined) {\n",
       "      var bk_div = document.createElement(\"div\");\n",
       "      bk_div.innerHTML = output.data[HTML_MIME_TYPE];\n",
       "      var script_attrs = bk_div.children[0].attributes;\n",
       "      for (var i = 0; i < script_attrs.length; i++) {\n",
       "        toinsert[toinsert.length - 1].firstChild.setAttribute(script_attrs[i].name, script_attrs[i].value);\n",
       "      }\n",
       "      // store reference to server id on output_area\n",
       "      output_area._bokeh_server_id = output.metadata[EXEC_MIME_TYPE][\"server_id\"];\n",
       "    }\n",
       "  }\n",
       "\n",
       "  function register_renderer(events, OutputArea) {\n",
       "\n",
       "    function append_mime(data, metadata, element) {\n",
       "      // create a DOM node to render to\n",
       "      var toinsert = this.create_output_subarea(\n",
       "        metadata,\n",
       "        CLASS_NAME,\n",
       "        EXEC_MIME_TYPE\n",
       "      );\n",
       "      this.keyboard_manager.register_events(toinsert);\n",
       "      // Render to node\n",
       "      var props = {data: data, metadata: metadata[EXEC_MIME_TYPE]};\n",
       "      render(props, toinsert[toinsert.length - 1]);\n",
       "      element.append(toinsert);\n",
       "      return toinsert\n",
       "    }\n",
       "\n",
       "    /* Handle when an output is cleared or removed */\n",
       "    events.on('clear_output.CodeCell', handleClearOutput);\n",
       "    events.on('delete.Cell', handleClearOutput);\n",
       "\n",
       "    /* Handle when a new output is added */\n",
       "    events.on('output_added.OutputArea', handleAddOutput);\n",
       "\n",
       "    /**\n",
       "     * Register the mime type and append_mime function with output_area\n",
       "     */\n",
       "    OutputArea.prototype.register_mime_type(EXEC_MIME_TYPE, append_mime, {\n",
       "      /* Is output safe? */\n",
       "      safe: true,\n",
       "      /* Index of renderer in `output_area.display_order` */\n",
       "      index: 0\n",
       "    });\n",
       "  }\n",
       "\n",
       "  // register the mime type if in Jupyter Notebook environment and previously unregistered\n",
       "  if (root.Jupyter !== undefined) {\n",
       "    var events = require('base/js/events');\n",
       "    var OutputArea = require('notebook/js/outputarea').OutputArea;\n",
       "\n",
       "    if (OutputArea.prototype.mime_types().indexOf(EXEC_MIME_TYPE) == -1) {\n",
       "      register_renderer(events, OutputArea);\n",
       "    }\n",
       "  }\n",
       "\n",
       "  \n",
       "  if (typeof (root._bokeh_timeout) === \"undefined\" || force === true) {\n",
       "    root._bokeh_timeout = Date.now() + 5000;\n",
       "    root._bokeh_failed_load = false;\n",
       "  }\n",
       "\n",
       "  var NB_LOAD_WARNING = {'data': {'text/html':\n",
       "     \"<div style='background-color: #fdd'>\\n\"+\n",
       "     \"<p>\\n\"+\n",
       "     \"BokehJS does not appear to have successfully loaded. If loading BokehJS from CDN, this \\n\"+\n",
       "     \"may be due to a slow or bad network connection. Possible fixes:\\n\"+\n",
       "     \"</p>\\n\"+\n",
       "     \"<ul>\\n\"+\n",
       "     \"<li>re-rerun `output_notebook()` to attempt to load from CDN again, or</li>\\n\"+\n",
       "     \"<li>use INLINE resources instead, as so:</li>\\n\"+\n",
       "     \"</ul>\\n\"+\n",
       "     \"<code>\\n\"+\n",
       "     \"from bokeh.resources import INLINE\\n\"+\n",
       "     \"output_notebook(resources=INLINE)\\n\"+\n",
       "     \"</code>\\n\"+\n",
       "     \"</div>\"}};\n",
       "\n",
       "  function display_loaded() {\n",
       "    var el = document.getElementById(\"50966\");\n",
       "    if (el != null) {\n",
       "      el.textContent = \"BokehJS is loading...\";\n",
       "    }\n",
       "    if (root.Bokeh !== undefined) {\n",
       "      if (el != null) {\n",
       "        el.textContent = \"BokehJS \" + root.Bokeh.version + \" successfully loaded.\";\n",
       "      }\n",
       "    } else if (Date.now() < root._bokeh_timeout) {\n",
       "      setTimeout(display_loaded, 100)\n",
       "    }\n",
       "  }\n",
       "\n",
       "\n",
       "  function run_callbacks() {\n",
       "    try {\n",
       "      root._bokeh_onload_callbacks.forEach(function(callback) {\n",
       "        if (callback != null)\n",
       "          callback();\n",
       "      });\n",
       "    } finally {\n",
       "      delete root._bokeh_onload_callbacks\n",
       "    }\n",
       "    console.debug(\"Bokeh: all callbacks have finished\");\n",
       "  }\n",
       "\n",
       "  function load_libs(css_urls, js_urls, callback) {\n",
       "    if (css_urls == null) css_urls = [];\n",
       "    if (js_urls == null) js_urls = [];\n",
       "\n",
       "    root._bokeh_onload_callbacks.push(callback);\n",
       "    if (root._bokeh_is_loading > 0) {\n",
       "      console.debug(\"Bokeh: BokehJS is being loaded, scheduling callback at\", now());\n",
       "      return null;\n",
       "    }\n",
       "    if (js_urls == null || js_urls.length === 0) {\n",
       "      run_callbacks();\n",
       "      return null;\n",
       "    }\n",
       "    console.debug(\"Bokeh: BokehJS not loaded, scheduling load and callback at\", now());\n",
       "    root._bokeh_is_loading = css_urls.length + js_urls.length;\n",
       "\n",
       "    function on_load() {\n",
       "      root._bokeh_is_loading--;\n",
       "      if (root._bokeh_is_loading === 0) {\n",
       "        console.debug(\"Bokeh: all BokehJS libraries/stylesheets loaded\");\n",
       "        run_callbacks()\n",
       "      }\n",
       "    }\n",
       "\n",
       "    function on_error() {\n",
       "      console.error(\"failed to load \" + url);\n",
       "    }\n",
       "\n",
       "    for (var i = 0; i < css_urls.length; i++) {\n",
       "      var url = css_urls[i];\n",
       "      const element = document.createElement(\"link\");\n",
       "      element.onload = on_load;\n",
       "      element.onerror = on_error;\n",
       "      element.rel = \"stylesheet\";\n",
       "      element.type = \"text/css\";\n",
       "      element.href = url;\n",
       "      console.debug(\"Bokeh: injecting link tag for BokehJS stylesheet: \", url);\n",
       "      document.body.appendChild(element);\n",
       "    }\n",
       "\n",
       "    for (var i = 0; i < js_urls.length; i++) {\n",
       "      var url = js_urls[i];\n",
       "      var element = document.createElement('script');\n",
       "      element.onload = on_load;\n",
       "      element.onerror = on_error;\n",
       "      element.async = false;\n",
       "      element.src = url;\n",
       "      console.debug(\"Bokeh: injecting script tag for BokehJS library: \", url);\n",
       "      document.head.appendChild(element);\n",
       "    }\n",
       "  };var element = document.getElementById(\"50966\");\n",
       "  if (element == null) {\n",
       "    console.error(\"Bokeh: ERROR: autoload.js configured with elementid '50966' but no matching script tag was found. \")\n",
       "    return false;\n",
       "  }\n",
       "\n",
       "  function inject_raw_css(css) {\n",
       "    const element = document.createElement(\"style\");\n",
       "    element.appendChild(document.createTextNode(css));\n",
       "    document.body.appendChild(element);\n",
       "  }\n",
       "\n",
       "  var js_urls = [\"https://cdn.pydata.org/bokeh/release/bokeh-1.1.0.min.js\", \"https://cdn.pydata.org/bokeh/release/bokeh-widgets-1.1.0.min.js\", \"https://cdn.pydata.org/bokeh/release/bokeh-tables-1.1.0.min.js\", \"https://cdn.pydata.org/bokeh/release/bokeh-gl-1.1.0.min.js\"];\n",
       "  var css_urls = [\"https://cdn.pydata.org/bokeh/release/bokeh-1.1.0.min.css\", \"https://cdn.pydata.org/bokeh/release/bokeh-widgets-1.1.0.min.css\", \"https://cdn.pydata.org/bokeh/release/bokeh-tables-1.1.0.min.css\"];\n",
       "\n",
       "  var inline_js = [\n",
       "    function(Bokeh) {\n",
       "      Bokeh.set_log_level(\"info\");\n",
       "    },\n",
       "    \n",
       "    function(Bokeh) {\n",
       "      \n",
       "    },\n",
       "    function(Bokeh) {} // ensure no trailing comma for IE\n",
       "  ];\n",
       "\n",
       "  function run_inline_js() {\n",
       "    \n",
       "    if ((root.Bokeh !== undefined) || (force === true)) {\n",
       "      for (var i = 0; i < inline_js.length; i++) {\n",
       "        inline_js[i].call(root, root.Bokeh);\n",
       "      }if (force === true) {\n",
       "        display_loaded();\n",
       "      }} else if (Date.now() < root._bokeh_timeout) {\n",
       "      setTimeout(run_inline_js, 100);\n",
       "    } else if (!root._bokeh_failed_load) {\n",
       "      console.log(\"Bokeh: BokehJS failed to load within specified timeout.\");\n",
       "      root._bokeh_failed_load = true;\n",
       "    } else if (force !== true) {\n",
       "      var cell = $(document.getElementById(\"50966\")).parents('.cell').data().cell;\n",
       "      cell.output_area.append_execute_result(NB_LOAD_WARNING)\n",
       "    }\n",
       "\n",
       "  }\n",
       "\n",
       "  if (root._bokeh_is_loading === 0) {\n",
       "    console.debug(\"Bokeh: BokehJS loaded, going straight to plotting\");\n",
       "    run_inline_js();\n",
       "  } else {\n",
       "    load_libs(css_urls, js_urls, function() {\n",
       "      console.debug(\"Bokeh: BokehJS plotting callback run at\", now());\n",
       "      run_inline_js();\n",
       "    });\n",
       "  }\n",
       "}(window));"
      ],
      "application/vnd.bokehjs_load.v0+json": "\n(function(root) {\n  function now() {\n    return new Date();\n  }\n\n  var force = true;\n\n  if (typeof root._bokeh_onload_callbacks === \"undefined\" || force === true) {\n    root._bokeh_onload_callbacks = [];\n    root._bokeh_is_loading = undefined;\n  }\n\n  \n\n  \n  if (typeof (root._bokeh_timeout) === \"undefined\" || force === true) {\n    root._bokeh_timeout = Date.now() + 5000;\n    root._bokeh_failed_load = false;\n  }\n\n  var NB_LOAD_WARNING = {'data': {'text/html':\n     \"<div style='background-color: #fdd'>\\n\"+\n     \"<p>\\n\"+\n     \"BokehJS does not appear to have successfully loaded. If loading BokehJS from CDN, this \\n\"+\n     \"may be due to a slow or bad network connection. Possible fixes:\\n\"+\n     \"</p>\\n\"+\n     \"<ul>\\n\"+\n     \"<li>re-rerun `output_notebook()` to attempt to load from CDN again, or</li>\\n\"+\n     \"<li>use INLINE resources instead, as so:</li>\\n\"+\n     \"</ul>\\n\"+\n     \"<code>\\n\"+\n     \"from bokeh.resources import INLINE\\n\"+\n     \"output_notebook(resources=INLINE)\\n\"+\n     \"</code>\\n\"+\n     \"</div>\"}};\n\n  function display_loaded() {\n    var el = document.getElementById(\"50966\");\n    if (el != null) {\n      el.textContent = \"BokehJS is loading...\";\n    }\n    if (root.Bokeh !== undefined) {\n      if (el != null) {\n        el.textContent = \"BokehJS \" + root.Bokeh.version + \" successfully loaded.\";\n      }\n    } else if (Date.now() < root._bokeh_timeout) {\n      setTimeout(display_loaded, 100)\n    }\n  }\n\n\n  function run_callbacks() {\n    try {\n      root._bokeh_onload_callbacks.forEach(function(callback) {\n        if (callback != null)\n          callback();\n      });\n    } finally {\n      delete root._bokeh_onload_callbacks\n    }\n    console.debug(\"Bokeh: all callbacks have finished\");\n  }\n\n  function load_libs(css_urls, js_urls, callback) {\n    if (css_urls == null) css_urls = [];\n    if (js_urls == null) js_urls = [];\n\n    root._bokeh_onload_callbacks.push(callback);\n    if (root._bokeh_is_loading > 0) {\n      console.debug(\"Bokeh: BokehJS is being loaded, scheduling callback at\", now());\n      return null;\n    }\n    if (js_urls == null || js_urls.length === 0) {\n      run_callbacks();\n      return null;\n    }\n    console.debug(\"Bokeh: BokehJS not loaded, scheduling load and callback at\", now());\n    root._bokeh_is_loading = css_urls.length + js_urls.length;\n\n    function on_load() {\n      root._bokeh_is_loading--;\n      if (root._bokeh_is_loading === 0) {\n        console.debug(\"Bokeh: all BokehJS libraries/stylesheets loaded\");\n        run_callbacks()\n      }\n    }\n\n    function on_error() {\n      console.error(\"failed to load \" + url);\n    }\n\n    for (var i = 0; i < css_urls.length; i++) {\n      var url = css_urls[i];\n      const element = document.createElement(\"link\");\n      element.onload = on_load;\n      element.onerror = on_error;\n      element.rel = \"stylesheet\";\n      element.type = \"text/css\";\n      element.href = url;\n      console.debug(\"Bokeh: injecting link tag for BokehJS stylesheet: \", url);\n      document.body.appendChild(element);\n    }\n\n    for (var i = 0; i < js_urls.length; i++) {\n      var url = js_urls[i];\n      var element = document.createElement('script');\n      element.onload = on_load;\n      element.onerror = on_error;\n      element.async = false;\n      element.src = url;\n      console.debug(\"Bokeh: injecting script tag for BokehJS library: \", url);\n      document.head.appendChild(element);\n    }\n  };var element = document.getElementById(\"50966\");\n  if (element == null) {\n    console.error(\"Bokeh: ERROR: autoload.js configured with elementid '50966' but no matching script tag was found. \")\n    return false;\n  }\n\n  function inject_raw_css(css) {\n    const element = document.createElement(\"style\");\n    element.appendChild(document.createTextNode(css));\n    document.body.appendChild(element);\n  }\n\n  var js_urls = [\"https://cdn.pydata.org/bokeh/release/bokeh-1.1.0.min.js\", \"https://cdn.pydata.org/bokeh/release/bokeh-widgets-1.1.0.min.js\", \"https://cdn.pydata.org/bokeh/release/bokeh-tables-1.1.0.min.js\", \"https://cdn.pydata.org/bokeh/release/bokeh-gl-1.1.0.min.js\"];\n  var css_urls = [\"https://cdn.pydata.org/bokeh/release/bokeh-1.1.0.min.css\", \"https://cdn.pydata.org/bokeh/release/bokeh-widgets-1.1.0.min.css\", \"https://cdn.pydata.org/bokeh/release/bokeh-tables-1.1.0.min.css\"];\n\n  var inline_js = [\n    function(Bokeh) {\n      Bokeh.set_log_level(\"info\");\n    },\n    \n    function(Bokeh) {\n      \n    },\n    function(Bokeh) {} // ensure no trailing comma for IE\n  ];\n\n  function run_inline_js() {\n    \n    if ((root.Bokeh !== undefined) || (force === true)) {\n      for (var i = 0; i < inline_js.length; i++) {\n        inline_js[i].call(root, root.Bokeh);\n      }if (force === true) {\n        display_loaded();\n      }} else if (Date.now() < root._bokeh_timeout) {\n      setTimeout(run_inline_js, 100);\n    } else if (!root._bokeh_failed_load) {\n      console.log(\"Bokeh: BokehJS failed to load within specified timeout.\");\n      root._bokeh_failed_load = true;\n    } else if (force !== true) {\n      var cell = $(document.getElementById(\"50966\")).parents('.cell').data().cell;\n      cell.output_area.append_execute_result(NB_LOAD_WARNING)\n    }\n\n  }\n\n  if (root._bokeh_is_loading === 0) {\n    console.debug(\"Bokeh: BokehJS loaded, going straight to plotting\");\n    run_inline_js();\n  } else {\n    load_libs(css_urls, js_urls, function() {\n      console.debug(\"Bokeh: BokehJS plotting callback run at\", now());\n      run_inline_js();\n    });\n  }\n}(window));"
     },
     "metadata": {},
     "output_type": "display_data"
    },
    {
     "data": {
      "text/html": [
       "\n",
       "\n",
       "\n",
       "\n",
       "\n",
       "\n",
       "  <div class=\"bk-root\" id=\"7e0c67de-bcdf-4031-81c6-a5636992b8fb\" data-root-id=\"50918\"></div>\n"
      ]
     },
     "metadata": {},
     "output_type": "display_data"
    },
    {
     "data": {
      "application/javascript": [
       "(function(root) {\n",
       "  function embed_document(root) {\n",
       "    \n",
       "  var docs_json = {\"6f72fc8b-2a96-4637-b48e-814f5537f6b8\":{\"roots\":{\"references\":[{\"attributes\":{\"below\":[{\"id\":\"50927\",\"type\":\"MercatorAxis\"}],\"center\":[{\"id\":\"50935\",\"type\":\"Grid\"},{\"id\":\"50944\",\"type\":\"Grid\"}],\"left\":[{\"id\":\"50936\",\"type\":\"MercatorAxis\"}],\"renderers\":[{\"id\":\"50958\",\"type\":\"TileRenderer\"},{\"id\":\"50964\",\"type\":\"GlyphRenderer\"}],\"title\":{\"id\":\"51798\",\"type\":\"Title\"},\"toolbar\":{\"id\":\"50950\",\"type\":\"Toolbar\"},\"x_range\":{\"id\":\"50919\",\"type\":\"Range1d\"},\"x_scale\":{\"id\":\"50923\",\"type\":\"LinearScale\"},\"y_range\":{\"id\":\"50921\",\"type\":\"Range1d\"},\"y_scale\":{\"id\":\"50925\",\"type\":\"LinearScale\"}},\"id\":\"50918\",\"subtype\":\"Figure\",\"type\":\"Plot\"},{\"attributes\":{},\"id\":\"51806\",\"type\":\"UnionRenderers\"},{\"attributes\":{\"callback\":null,\"data\":{\"Away Draw\":{\"__ndarray__\":\"AAAAAACAQkAAAAAAAAAAQAAAAAAAAPA/AAAAAAAAAAAAAAAAAAAAAAAAAAAAAPA/AAAAAAAA8D8AAAAAAADwPwAAAAAAAPA/AAAAAAAAAAAAAAAAAADwPwAAAAAAAPA/AAAAAAAAAEAAAAAAAADwPwAAAAAAAAAAAAAAAAAAAAAAAAAAAAAAQAAAAAAAAAhAAAAAAAAAAEAAAAAAAAAIQAAAAAAAAAAAAAAAAAAAAEAAAAAAAADwPwAAAAAAAAAAAAAAAAAAAAAAAAAAAAAAAAAAAAAAAAhAAAAAAAAACEAAAAAAAAAAQAAAAAAAAAAAAAAAAAAACEAAAAAAAAAAAAAAAAAAAAhAAAAAAAAACEAAAAAAAADwPwAAAAAAAAAA\",\"dtype\":\"float64\",\"shape\":[36]},\"Away Loss\":{\"__ndarray__\":\"AAAAAAAAOEAAAAAAAAAAAAAAAAAAAAAAAAAAAAAAAEAAAAAAAAAAAAAAAAAAAPA/AAAAAAAA8D8AAAAAAADwPwAAAAAAAAAAAAAAAAAAAAAAAAAAAAAgQAAAAAAAAPA/AAAAAAAACEAAAAAAAADwPwAAAAAAAAAAAAAAAAAAAAAAAAAAAAAAQAAAAAAAABBAAAAAAAAAGEAAAAAAAAAcQAAAAAAAAAAAAAAAAAAA8D8AAAAAAADwPwAAAAAAAAAAAAAAAAAA8D8AAAAAAAAAAAAAAAAAAAhAAAAAAAAAEEAAAAAAAADwPwAAAAAAAAhAAAAAAAAAGEAAAAAAAADwPwAAAAAAAABAAAAAAAAA8D8AAAAAAADwPwAAAAAAAPA/\",\"dtype\":\"float64\",\"shape\":[36]},\"Away Win\":{\"__ndarray__\":\"AAAAAAAgYEAAAAAAAAAUQAAAAAAAAPA/AAAAAAAA8D8AAAAAAADwPwAAAAAAAPA/AAAAAAAAAEAAAAAAAAAAAAAAAAAAABBAAAAAAAAAAEAAAAAAAADwPwAAAAAAABBAAAAAAAAAFEAAAAAAAAAQQAAAAAAAAABAAAAAAAAAEEAAAAAAAADwPwAAAAAAAAhAAAAAAAAAAEAAAAAAAAAAAAAAAAAAAPA/AAAAAAAAFEAAAAAAAAAAQAAAAAAAAPA/AAAAAAAAAEAAAAAAAADwPwAAAAAAAPA/AAAAAAAAAEAAAAAAAAAUQAAAAAAAABBAAAAAAAAA8D8AAAAAAAAIQAAAAAAAAAhAAAAAAAAAFEAAAAAAAAAAQAAAAAAAAAhA\",\"dtype\":\"float64\",\"shape\":[36]},\"AwayGames\":{\"__ndarray__\":\"vgAAAAcAAAACAAAAAwAAAAEAAAADAAAABAAAAAIAAAAFAAAAAgAAAAoAAAAGAAAACgAAAAYAAAACAAAABAAAAAUAAAAKAAAACgAAAAoAAAABAAAACAAAAAQAAAABAAAAAwAAAAEAAAAHAAAACQAAAAgAAAAHAAAACgAAAAQAAAAIAAAACQAAAAQAAAAEAAAA\",\"dtype\":\"int32\",\"shape\":[36]},\"AwayWinPct\":{\"__ndarray__\":\"mpmZmZn5UECamZmZmdlRQAAAAAAAAElAZmZmZmamQEAAAAAAAABZQGZmZmZmpkBAAAAAAAAASUAAAAAAAAAAAAAAAAAAAFRAAAAAAAAAWUAAAAAAAAAkQM3MzMzMrFBAAAAAAAAASUDNzMzMzKxQQAAAAAAAAFlAAAAAAAAAWUAAAAAAAAA0QAAAAAAAAD5AAAAAAAAANEAAAAAAAAAAAAAAAAAAAFlAAAAAAABAT0AAAAAAAABJQAAAAAAAAFlAzczMzMysUEAAAAAAAABZQJqZmZmZmSxAMzMzMzMzNkAAAAAAAEBPQM3MzMzMjExAAAAAAAAAJEAAAAAAAMBSQAAAAAAAwEJAzczMzMzMS0AAAAAAAABJQAAAAAAAwFJA\",\"dtype\":\"float64\",\"shape\":[36]},\"Home Draw\":{\"__ndarray__\":\"AAAAAACARUAAAAAAAAAAAAAAAAAAAAAAAAAAAAAA8D8AAAAAAAAAAAAAAAAAAAAAAAAAAAAAAAAAAAAAAADwPwAAAAAAAAAAAAAAAAAAAAAAAAAAAAAQQAAAAAAAAPA/AAAAAAAACEAAAAAAAAAAQAAAAAAAAAAAAAAAAAAA8D8AAAAAAAAAAAAAAAAAABRAAAAAAAAAFEAAAAAAAAAAQAAAAAAAAPA/AAAAAAAAAAAAAAAAAADwPwAAAAAAAAAAAAAAAAAAAAAAAAAAAAAAAAAAAAAAAPA/AAAAAAAAAAAAAAAAAAAIQAAAAAAAAPA/AAAAAAAACEAAAAAAAAAAAAAAAAAAAAAAAAAAAAAAAAAAAAAAAAAAAAAAAAAAAABA\",\"dtype\":\"float64\",\"shape\":[36]},\"Home Loss\":{\"__ndarray__\":\"AAAAAACAT0AAAAAAAAAAQAAAAAAAAAAAAAAAAAAAAAAAAAAAAAAAAAAAAAAAAAAAAAAAAAAAAAAAAAAAAAAAAAAAAAAAAAAAAAAAAAAAAAAAAAAAAAAIQAAAAAAAAPA/AAAAAAAAAAAAAAAAAAAAAAAAAAAAAAAAAAAAAAAAAAAAAAAAAAAAAAAAAAAAAABAAAAAAAAACEAAAAAAAAAQQAAAAAAAAAAAAAAAAAAA8D8AAAAAAAAAAAAAAAAAAAAAAAAAAAAAAAAAAAAAAAAAAAAAAAAAAAAAAAAAAAAAAAAAAAAAAAAAAAAAAAAAAAhAAAAAAAAA8D8AAAAAAADwPwAAAAAAAPA/AAAAAAAA8D8AAAAAAADwPwAAAAAAAAAA\",\"dtype\":\"float64\",\"shape\":[36]},\"Home Win\":{\"__ndarray__\":\"AAAAAAAAVUAAAAAAAAAUQAAAAAAAAABAAAAAAAAAAEAAAAAAAADwPwAAAAAAAAhAAAAAAAAAEEAAAAAAAADwPwAAAAAAABRAAAAAAAAAAEAAAAAAAAAIQAAAAAAAABBAAAAAAAAAHEAAAAAAAAAQQAAAAAAAAABAAAAAAAAACEAAAAAAAAAUQAAAAAAAAAhAAAAAAAAAAEAAAAAAAAAQQAAAAAAAAAAAAAAAAAAAHEAAAAAAAAAIQAAAAAAAAPA/AAAAAAAACEAAAAAAAADwPwAAAAAAABhAAAAAAAAAIkAAAAAAAAAUQAAAAAAAAAhAAAAAAAAAGEAAAAAAAAAIQAAAAAAAABxAAAAAAAAAIEAAAAAAAAAIQAAAAAAAAABA\",\"dtype\":\"float64\",\"shape\":[36]},\"HomeGames\":{\"__ndarray__\":\"vgAAAAcAAAACAAAAAwAAAAEAAAADAAAABAAAAAIAAAAFAAAAAgAAAAoAAAAGAAAACgAAAAYAAAACAAAABAAAAAUAAAAKAAAACgAAAAoAAAABAAAACAAAAAQAAAABAAAAAwAAAAEAAAAHAAAACQAAAAgAAAAHAAAACgAAAAQAAAAIAAAACQAAAAQAAAAEAAAA\",\"dtype\":\"int32\",\"shape\":[36]},\"HomeWinPct\":{\"__ndarray__\":\"mpmZmZkZRkCamZmZmdlRQAAAAAAAAFlAzczMzMysUEAAAAAAAABZQAAAAAAAAFlAAAAAAAAAWUAAAAAAAABJQAAAAAAAAFlAAAAAAAAAWUAAAAAAAAA+QM3MzMzMrFBAAAAAAACAUUDNzMzMzKxQQAAAAAAAAFlAAAAAAADAUkAAAAAAAABZQAAAAAAAAD5AAAAAAAAANEAAAAAAAABEQAAAAAAAAAAAAAAAAADgVUAAAAAAAMBSQAAAAAAAAFlAAAAAAAAAWUAAAAAAAABZQM3MzMzMbFVAAAAAAAAAWUAAAAAAAEBPQDMzMzMzc0VAAAAAAAAATkAAAAAAAMBSQAAAAAAA4FVAmpmZmZk5VkAAAAAAAMBSQAAAAAAAAElA\",\"dtype\":\"float64\",\"shape\":[36]},\"Scaled Away Win\":{\"__ndarray__\":\"IyIiIiKiRkDNzMzMzMxHQKuqqqqqqkBAMzMzMzMzNkCrqqqqqqpQQDMzMzMzMzZAq6qqqqqqQEAAAAAAAAAAAKuqqqqqqkpAq6qqqqqqUECrqqqqqqoaQLy7u7u7O0ZAq6qqqqqqQEC8u7u7uztGQKuqqqqqqlBAq6qqqqqqUECrqqqqqqoqQAAAAAAAADRAq6qqqqqqKkAAAAAAAAAAAKuqqqqqqlBAVVVVVVXVRECrqqqqqqpAQKuqqqqqqlBAvLu7u7s7RkCrqqqqqqpQQBERERERESNAmZmZmZmZLUBVVVVVVdVEQImIiIiICENAq6qqqqqqGkAAAAAAAABJQAAAAAAAADlAiYiIiIiIQkCrqqqqqqpAQAAAAAAAAElA\",\"dtype\":\"float64\",\"shape\":[36]},\"Stadium\":[\"Emirates Stadium\",\"Villa Park\",\"St Andrew's\",\"Ewood Park\",\"Bloomfield Road\",\"University of Bolton Stadium Formerly Reebok Stadium and Macron Stadium\",\"Dean Court\",\"Falmer Stadium\",\"Turf Moor\",\"Cardiff City Stadium\",\"Stamford Bridge\",\"Selhurst Park\",\"Goodison Park\",\"Craven Cottage\",\"Kirklees Stadium\",\"KCOM StadiumFormerly KC Stadium\",\"King Power StadiumFormerly Walkers Stadium\",\"Anfield\",\"City of Manchester Stadium\",\"Old Trafford\",\"Riverside Stadium\",\"St James' Park\",\"Carrow Road\",\"Fratton Park\",\"Loftus Road\",\"Madejski Stadium\",\"St Mary's Stadium\",\"bet365 StadiumFormerly Britannia Stadium\",\"Stadium of Light\",\"Liberty Stadium\",\"Tottenham Hotspur Stadium\",\"Vicarage Road\",\"The Hawthorns\",\"Boleyn Ground(also known as Upton Park)\",\"DW Stadium Formerly JJB Stadium\",\"Molineux Stadium\"],\"X_Coords\":{\"__ndarray__\":\"QfVwdzSdx8Al0cSQcJwJweJ8Xed7YgnBEvYujJTpEMGZRMzysbUUwaOUB/5EOhHBApQTrQ/7CMG2xIN2OxvCwBoESBKNTg7B1GpgCEzDFcEXPAklkcbUwJbY4HA/msLAHJjgGKQnFMG+fO5BDBnYwLNY4MKMBwjBcd0zNr3548D+7pOU9Qr/wPIgCVr4HRTBZljEZDDmDcHnmK7xIiMPwZCmBiFpiQDBunE+1FsJBsHS3yIaQcoBwR4kxhb76fzAEaR/Lac+2cDrakkbqbX6wKH7M0FN5wLB1xzj2TGQDcF3hFyCod0CwWsodRvsuxrBCZ4gQYDevMA+V09lNtXlwCYx0eDZrwrBN2fS0nAmscBBDllpkwgSwRcdkXqt8gzB\",\"dtype\":\"float64\",\"shape\":[36]},\"Y_Coords\":{\"__ndarray__\":\"X379D4+iWUFv8rmvK0taQfvQEso3RVpBF1jiORMoW0FhXVLAEjZbQTwihw3rDFtBTfzNLoIUWUGqHhb+RSpZQWQoFxM2M1tB6N+TPzKUWUElEn97v5VZQeWTfp02h1lBNP7gOwXzWkEddxpwlZRZQa3nnploGltBrHnLnEorW0HfpH+jCl9aQakM17WM8VpBh7uO6BX7WkHB+xLEbvdaQXob/LrRxVtB6roXELEQXEFuVoSSY19aQU8YUAwDH1lBlg4cw4yaWUG6ab6IYItZQdeD6UDbMVlBqXb85DmhWkHRhpWVHwVcQUgpxdvrsVlB+PVHukGrWUGMHIOsL7NZQW/yua8rS1pBbSXcKoeeWUEOA4rw3QZbQbJnk+CrWVpB\",\"dtype\":\"float64\",\"shape\":[36]},\"index\":[\"Arsenal\",\"Aston Villa\",\"Birmingham City\",\"Blackburn Rovers\",\"Blackpool\",\"Bolton Wanderers\",\"Bournemouth\",\"Brighton & Hove Albion\",\"Burnley\",\"Cardiff City\",\"Chelsea\",\"Crystal Palace\",\"Everton\",\"Fulham\",\"Huddersfield Town\",\"Hull City\",\"Leicester City\",\"Liverpool\",\"Manchester City\",\"Manchester United\",\"Middlesbrough\",\"Newcastle United\",\"Norwich City\",\"Portsmouth\",\"Queens Park Rangers\",\"Reading\",\"Southampton\",\"Stoke City\",\"Sunderland\",\"Swansea City\",\"Tottenham Hotspur\",\"Watford\",\"West Bromwich Albion\",\"West Ham United\",\"Wigan Athletic\",\"Wolverhampton Wanderers\"],\"level_0\":[0,1,2,3,4,5,6,7,8,9,10,11,12,13,14,15,16,17,18,19,20,21,22,23,24,25,26,27,28,29,30,31,32,33,34,35]},\"selected\":{\"id\":\"51805\",\"type\":\"Selection\"},\"selection_policy\":{\"id\":\"51806\",\"type\":\"UnionRenderers\"}},\"id\":\"50960\",\"type\":\"ColumnDataSource\"},{\"attributes\":{\"dimension\":1,\"ticker\":{\"id\":\"50937\",\"type\":\"MercatorTicker\"}},\"id\":\"50944\",\"type\":\"Grid\"},{\"attributes\":{},\"id\":\"50923\",\"type\":\"LinearScale\"},{\"attributes\":{},\"id\":\"50945\",\"type\":\"WheelZoomTool\"},{\"attributes\":{\"dimension\":\"lat\"},\"id\":\"50937\",\"type\":\"MercatorTicker\"},{\"attributes\":{\"source\":{\"id\":\"50960\",\"type\":\"ColumnDataSource\"}},\"id\":\"50965\",\"type\":\"CDSView\"},{\"attributes\":{\"tile_source\":{\"id\":\"50957\",\"type\":\"WMTSTileSource\"}},\"id\":\"50958\",\"type\":\"TileRenderer\"},{\"attributes\":{\"attribution\":\"&copy; <a href=\\\"https://www.openstreetmap.org/copyright\\\">OpenStreetMap</a> contributors,&copy; <a href=\\\"https://cartodb.com/attributions\\\">CartoDB</a>\",\"url\":\"https://tiles.basemaps.cartocdn.com/light_all/{z}/{x}/{y}.png\"},\"id\":\"50957\",\"type\":\"WMTSTileSource\"},{\"attributes\":{\"formatter\":{\"id\":\"50939\",\"type\":\"MercatorTickFormatter\"},\"ticker\":{\"id\":\"50937\",\"type\":\"MercatorTicker\"}},\"id\":\"50936\",\"type\":\"MercatorAxis\"},{\"attributes\":{\"data_source\":{\"id\":\"50960\",\"type\":\"ColumnDataSource\"},\"glyph\":{\"id\":\"50962\",\"type\":\"Circle\"},\"hover_glyph\":null,\"muted_glyph\":null,\"nonselection_glyph\":{\"id\":\"50963\",\"type\":\"Circle\"},\"selection_glyph\":null,\"view\":{\"id\":\"50965\",\"type\":\"CDSView\"}},\"id\":\"50964\",\"type\":\"GlyphRenderer\"},{\"attributes\":{\"dimension\":\"lon\"},\"id\":\"50930\",\"type\":\"MercatorTickFormatter\"},{\"attributes\":{\"fill_alpha\":{\"value\":0.1},\"fill_color\":{\"value\":\"#1f77b4\"},\"line_alpha\":{\"value\":0.1},\"line_color\":{\"value\":\"#1f77b4\"},\"size\":{\"field\":\"Scaled Away Win\",\"units\":\"screen\"},\"x\":{\"field\":\"X_Coords\"},\"y\":{\"field\":\"Y_Coords\"}},\"id\":\"50963\",\"type\":\"Circle\"},{\"attributes\":{\"active_drag\":\"auto\",\"active_inspect\":\"auto\",\"active_multi\":null,\"active_scroll\":\"auto\",\"active_tap\":\"auto\",\"tools\":[{\"id\":\"50917\",\"type\":\"HoverTool\"},{\"id\":\"50945\",\"type\":\"WheelZoomTool\"},{\"id\":\"50946\",\"type\":\"SaveTool\"},{\"id\":\"50947\",\"type\":\"PanTool\"},{\"id\":\"50948\",\"type\":\"BoxZoomTool\"},{\"id\":\"50949\",\"type\":\"ResetTool\"}]},\"id\":\"50950\",\"type\":\"Toolbar\"},{\"attributes\":{\"fill_alpha\":{\"value\":0.05},\"fill_color\":{\"value\":\"darkblue\"},\"line_color\":{\"value\":\"darkblue\"},\"size\":{\"field\":\"Scaled Away Win\",\"units\":\"screen\"},\"x\":{\"field\":\"X_Coords\"},\"y\":{\"field\":\"Y_Coords\"}},\"id\":\"50962\",\"type\":\"Circle\"},{\"attributes\":{\"dimension\":\"lat\"},\"id\":\"50939\",\"type\":\"MercatorTickFormatter\"},{\"attributes\":{},\"id\":\"50947\",\"type\":\"PanTool\"},{\"attributes\":{\"dimension\":\"lon\"},\"id\":\"50928\",\"type\":\"MercatorTicker\"},{\"attributes\":{},\"id\":\"50946\",\"type\":\"SaveTool\"},{\"attributes\":{\"callback\":null,\"end\":-380000,\"start\":-330000},\"id\":\"50919\",\"type\":\"Range1d\"},{\"attributes\":{\"overlay\":{\"id\":\"51804\",\"type\":\"BoxAnnotation\"}},\"id\":\"50948\",\"type\":\"BoxZoomTool\"},{\"attributes\":{\"callback\":null,\"tooltips\":[[\"Club\",\"@index\"],[\"Stadium\",\"@Stadium\"],[\"ArsenalWin%\",\"@AwayWinPct{1.1}\"],[\"Games\",\"@HomeGames\"]]},\"id\":\"50917\",\"type\":\"HoverTool\"},{\"attributes\":{},\"id\":\"50949\",\"type\":\"ResetTool\"},{\"attributes\":{\"callback\":null,\"end\":7450000,\"start\":6500000},\"id\":\"50921\",\"type\":\"Range1d\"},{\"attributes\":{\"bottom_units\":\"screen\",\"fill_alpha\":{\"value\":0.5},\"fill_color\":{\"value\":\"lightgrey\"},\"left_units\":\"screen\",\"level\":\"overlay\",\"line_alpha\":{\"value\":1.0},\"line_color\":{\"value\":\"black\"},\"line_dash\":[4,4],\"line_width\":{\"value\":2},\"render_mode\":\"css\",\"right_units\":\"screen\",\"top_units\":\"screen\"},\"id\":\"51804\",\"type\":\"BoxAnnotation\"},{\"attributes\":{\"text\":\"\"},\"id\":\"51798\",\"type\":\"Title\"},{\"attributes\":{},\"id\":\"50925\",\"type\":\"LinearScale\"},{\"attributes\":{\"ticker\":{\"id\":\"50928\",\"type\":\"MercatorTicker\"}},\"id\":\"50935\",\"type\":\"Grid\"},{\"attributes\":{},\"id\":\"51805\",\"type\":\"Selection\"},{\"attributes\":{\"formatter\":{\"id\":\"50930\",\"type\":\"MercatorTickFormatter\"},\"ticker\":{\"id\":\"50928\",\"type\":\"MercatorTicker\"}},\"id\":\"50927\",\"type\":\"MercatorAxis\"}],\"root_ids\":[\"50918\"]},\"title\":\"Bokeh Application\",\"version\":\"1.1.0\"}};\n",
       "  var render_items = [{\"docid\":\"6f72fc8b-2a96-4637-b48e-814f5537f6b8\",\"roots\":{\"50918\":\"7e0c67de-bcdf-4031-81c6-a5636992b8fb\"}}];\n",
       "  root.Bokeh.embed.embed_items_notebook(docs_json, render_items);\n",
       "\n",
       "  }\n",
       "  if (root.Bokeh !== undefined) {\n",
       "    embed_document(root);\n",
       "  } else {\n",
       "    var attempts = 0;\n",
       "    var timer = setInterval(function(root) {\n",
       "      if (root.Bokeh !== undefined) {\n",
       "        embed_document(root);\n",
       "        clearInterval(timer);\n",
       "      }\n",
       "      attempts++;\n",
       "      if (attempts > 100) {\n",
       "        console.log(\"Bokeh: ERROR: Unable to run BokehJS code because BokehJS library is missing\");\n",
       "        clearInterval(timer);\n",
       "      }\n",
       "    }, 10, root)\n",
       "  }\n",
       "})(window);"
      ],
      "application/vnd.bokehjs_exec.v0+json": ""
     },
     "metadata": {
      "application/vnd.bokehjs_exec.v0+json": {
       "id": "50918"
      }
     },
     "output_type": "display_data"
    }
   ],
   "source": [
    "# Plot the win percentage as circle around the stadia\n",
    "sam = ex_results_by_team(allseasonsArsenal)\n",
    "#sam.reset_index(drop = True, inplace = True)\n",
    "sam.reset_index(level=0, inplace=True)\n",
    "# Scale win percentage \n",
    "sam['Scaled Away Win'] = sam[\"AwayWinPct\"]/1.5\n",
    "hover = HoverTool(tooltips=[(\"Club\",\"@index\"),(\"Stadium\", \"@Stadium\"),(\"ArsenalWin%\", \"@AwayWinPct{1.1}\"),(\"Games\",\"@HomeGames\") ])\n",
    "p = figure(x_range=(-330000, -380000), y_range=(6500000, 7450000),\n",
    "           x_axis_type=\"mercator\", y_axis_type=\"mercator\", tools=[hover, 'wheel_zoom','save','pan','box_zoom','reset'])\n",
    "p.add_tile(get_provider(Vendors.CARTODBPOSITRON))\n",
    "win_percent_cds = ColumnDataSource(sam)\n",
    "p.circle(x = 'X_Coords',\n",
    "         y = 'Y_Coords',\n",
    "         source=win_percent_cds,\n",
    "         size='Scaled Away Win',\n",
    "         line_color=\"darkblue\", \n",
    "         fill_color=\"darkblue\",\n",
    "         fill_alpha=0.05)\n",
    "   \n",
    "output_notebook()\n",
    "show(p)"
   ]
  },
  {
   "cell_type": "markdown",
   "metadata": {},
   "source": [
    "### Select Away Games and Home Games"
   ]
  },
  {
   "cell_type": "code",
   "execution_count": 120,
   "metadata": {},
   "outputs": [],
   "source": [
    "allseasonsAway = allseasonsArsenal[allseasonsArsenal['AwayTeam'] == 'Arsenal']\n",
    "allseasonsHome = allseasonsArsenal[allseasonsArsenal['HomeTeam'] == 'Arsenal']"
   ]
  },
  {
   "cell_type": "markdown",
   "metadata": {},
   "source": [
    "### Goals conceded home and away by season"
   ]
  },
  {
   "cell_type": "code",
   "execution_count": 121,
   "metadata": {
    "scrolled": true
   },
   "outputs": [],
   "source": [
    "allseasonsHome.loc[:, 'HomeConceeded'] = allseasonsHome.groupby('Season')['FTAG'].cumsum() \n",
    "homeGoalsConceeded = allseasonsHome.groupby(['Season'])['HomeConceeded'].tail(1)\n",
    "allseasonsAway.loc[:, 'AwayConceeded'] = allseasonsAway.groupby('Season')['FTHG'].cumsum() \n",
    "awayGoalsConceeded = allseasonsAway.groupby(['Season'])['AwayConceeded'].tail(1)"
   ]
  },
  {
   "cell_type": "markdown",
   "metadata": {},
   "source": [
    "### Goals scored away and  at home by season."
   ]
  },
  {
   "cell_type": "code",
   "execution_count": 122,
   "metadata": {},
   "outputs": [],
   "source": [
    "allseasonsAway.loc[:, 'AwayScored'] = allseasonsAway.groupby('Season')['FTAG'].cumsum() \n",
    "awayGoalsScored = allseasonsAway.groupby(['Season'])['AwayScored'].tail(1)\n",
    "allseasonsHome.loc[:, 'HomeScored'] = allseasonsHome.groupby('Season')['FTHG'].cumsum()\n",
    "homeGoalsScored = allseasonsHome.groupby(['Season'])['HomeScored'].tail(1)"
   ]
  },
  {
   "cell_type": "code",
   "execution_count": 123,
   "metadata": {},
   "outputs": [],
   "source": [
    "# Points amassed by season\n",
    "arsenalPoints = allseasonsArsenal.groupby(['Season'])['Progress'].tail(1)"
   ]
  },
  {
   "cell_type": "code",
   "execution_count": 124,
   "metadata": {},
   "outputs": [],
   "source": [
    "positions = ['3rd','4th','3rd','4th','4th','3rd','2nd','5th','6th','5th']"
   ]
  },
  {
   "cell_type": "code",
   "execution_count": 126,
   "metadata": {},
   "outputs": [],
   "source": [
    "# Summary dataframe for Totteham Hotspurs\n",
    "spurs = allseasons[(allseasons['AwayTeam'] == 'Arsenal') | (allseasons['HomeTeam'] == 'Arsenal')]\n",
    "spurs.loc[:, 'Result'] = spurs.apply(check_results, axis = 1)\n",
    "spurs.loc[:, 'Points'] = spurs.apply(check_points, axis = 1)\n",
    "spurs.loc[:, 'Season'] = spurs.apply(check_season, axis = 1)\n",
    "spurs.loc[:, 'Progress'] = spurs.groupby('Season')['Points'].cumsum() \n",
    "spurs_points = allseasonsArsenal.groupby(['Season'])['Progress'].tail(1)\n",
    "spurs_positions = ['4th','5th','4th','5th', '6th','5th' ,'3rd','2nd','3rd','4th']\n",
    "spurs_combined= pd.concat([pd.Series(spurs['Season'].unique()),arsenalPoints.reset_index(drop = True),\n",
    "                          pd.Series(spurs_positions)] ,axis=1)\n",
    "spurs_combined.columns = ['Season','Points', 'Position']"
   ]
  },
  {
   "cell_type": "markdown",
   "metadata": {},
   "source": [
    "### Combine the extract series and group by results into a single dataframe"
   ]
  },
  {
   "cell_type": "code",
   "execution_count": 127,
   "metadata": {},
   "outputs": [
    {
     "data": {
      "text/html": [
       "<div>\n",
       "<style scoped>\n",
       "    .dataframe tbody tr th:only-of-type {\n",
       "        vertical-align: middle;\n",
       "    }\n",
       "\n",
       "    .dataframe tbody tr th {\n",
       "        vertical-align: top;\n",
       "    }\n",
       "\n",
       "    .dataframe thead th {\n",
       "        text-align: right;\n",
       "    }\n",
       "</style>\n",
       "<table border=\"1\" class=\"dataframe\">\n",
       "  <thead>\n",
       "    <tr style=\"text-align: right;\">\n",
       "      <th></th>\n",
       "      <th>Season</th>\n",
       "      <th>For</th>\n",
       "      <th>Against</th>\n",
       "      <th>Points</th>\n",
       "      <th>Position</th>\n",
       "      <th>SpursPoints</th>\n",
       "      <th>SpursPosition</th>\n",
       "    </tr>\n",
       "  </thead>\n",
       "  <tbody>\n",
       "    <tr>\n",
       "      <th>0</th>\n",
       "      <td>09-10</td>\n",
       "      <td>83</td>\n",
       "      <td>41</td>\n",
       "      <td>75</td>\n",
       "      <td>3rd</td>\n",
       "      <td>75</td>\n",
       "      <td>4th</td>\n",
       "    </tr>\n",
       "    <tr>\n",
       "      <th>1</th>\n",
       "      <td>10-11</td>\n",
       "      <td>72</td>\n",
       "      <td>43</td>\n",
       "      <td>68</td>\n",
       "      <td>4th</td>\n",
       "      <td>68</td>\n",
       "      <td>5th</td>\n",
       "    </tr>\n",
       "    <tr>\n",
       "      <th>2</th>\n",
       "      <td>11-12</td>\n",
       "      <td>74</td>\n",
       "      <td>49</td>\n",
       "      <td>70</td>\n",
       "      <td>3rd</td>\n",
       "      <td>70</td>\n",
       "      <td>4th</td>\n",
       "    </tr>\n",
       "    <tr>\n",
       "      <th>3</th>\n",
       "      <td>12-13</td>\n",
       "      <td>72</td>\n",
       "      <td>37</td>\n",
       "      <td>73</td>\n",
       "      <td>4th</td>\n",
       "      <td>73</td>\n",
       "      <td>5th</td>\n",
       "    </tr>\n",
       "    <tr>\n",
       "      <th>4</th>\n",
       "      <td>13-14</td>\n",
       "      <td>68</td>\n",
       "      <td>41</td>\n",
       "      <td>79</td>\n",
       "      <td>4th</td>\n",
       "      <td>79</td>\n",
       "      <td>6th</td>\n",
       "    </tr>\n",
       "    <tr>\n",
       "      <th>5</th>\n",
       "      <td>14-15</td>\n",
       "      <td>71</td>\n",
       "      <td>36</td>\n",
       "      <td>75</td>\n",
       "      <td>3rd</td>\n",
       "      <td>75</td>\n",
       "      <td>5th</td>\n",
       "    </tr>\n",
       "    <tr>\n",
       "      <th>6</th>\n",
       "      <td>15-16</td>\n",
       "      <td>65</td>\n",
       "      <td>36</td>\n",
       "      <td>71</td>\n",
       "      <td>2nd</td>\n",
       "      <td>71</td>\n",
       "      <td>3rd</td>\n",
       "    </tr>\n",
       "    <tr>\n",
       "      <th>7</th>\n",
       "      <td>16-17</td>\n",
       "      <td>77</td>\n",
       "      <td>44</td>\n",
       "      <td>75</td>\n",
       "      <td>5th</td>\n",
       "      <td>75</td>\n",
       "      <td>2nd</td>\n",
       "    </tr>\n",
       "    <tr>\n",
       "      <th>8</th>\n",
       "      <td>17-18</td>\n",
       "      <td>74</td>\n",
       "      <td>51</td>\n",
       "      <td>63</td>\n",
       "      <td>6th</td>\n",
       "      <td>63</td>\n",
       "      <td>3rd</td>\n",
       "    </tr>\n",
       "    <tr>\n",
       "      <th>9</th>\n",
       "      <td>18-19</td>\n",
       "      <td>73</td>\n",
       "      <td>51</td>\n",
       "      <td>70</td>\n",
       "      <td>5th</td>\n",
       "      <td>70</td>\n",
       "      <td>4th</td>\n",
       "    </tr>\n",
       "  </tbody>\n",
       "</table>\n",
       "</div>"
      ],
      "text/plain": [
       "  Season  For  Against  Points Position  SpursPoints SpursPosition\n",
       "0  09-10   83       41      75      3rd           75           4th\n",
       "1  10-11   72       43      68      4th           68           5th\n",
       "2  11-12   74       49      70      3rd           70           4th\n",
       "3  12-13   72       37      73      4th           73           5th\n",
       "4  13-14   68       41      79      4th           79           6th\n",
       "5  14-15   71       36      75      3rd           75           5th\n",
       "6  15-16   65       36      71      2nd           71           3rd\n",
       "7  16-17   77       44      75      5th           75           2nd\n",
       "8  17-18   74       51      63      6th           63           3rd\n",
       "9  18-19   73       51      70      5th           70           4th"
      ]
     },
     "execution_count": 127,
     "metadata": {},
     "output_type": "execute_result"
    }
   ],
   "source": [
    "arsenal_combined= pd.concat([pd.Series(allseasonsArsenal['Season'].unique()),\n",
    "                           homeGoalsScored.reset_index(drop = True) + awayGoalsScored.reset_index(drop = True),\n",
    "                           homeGoalsConceeded.reset_index(drop = True) + awayGoalsConceeded.reset_index(drop = True),\n",
    "                           arsenalPoints.reset_index(drop = True),pd.Series(positions),\n",
    "                           spurs_combined['Points'], spurs_combined['Position']] ,axis=1)\n",
    "arsenal_combined.columns = ['Season','For','Against','Points', 'Position', 'SpursPoints','SpursPosition']\n",
    "arsenal_combined"
   ]
  },
  {
   "cell_type": "markdown",
   "metadata": {},
   "source": [
    "### Create a ColumnDataSource for Points, HomeGoals, AwayGoals, HomeConceeded, AwayConceeded"
   ]
  },
  {
   "cell_type": "code",
   "execution_count": null,
   "metadata": {},
   "outputs": [],
   "source": [
    "arsenal_combined_cds = ColumnDataSource(arsenal_combined)\n",
    "results_team_cds = ColumnDataSource(results_by_team(allseasonsArsenal))\n",
    "results_referee_cds = ColumnDataSource(win_percent_by_referee(allseasonsArsenal))\n",
    "spurs_cds = ColumnDataSource(spurs_combined)"
   ]
  },
  {
   "cell_type": "markdown",
   "metadata": {},
   "source": [
    "### Create and configure the figure"
   ]
  },
  {
   "cell_type": "code",
   "execution_count": null,
   "metadata": {},
   "outputs": [],
   "source": [
    "goals_fig = figure(x_range = arsenal_combined_cds.data['Season'],plot_height=300, plot_width=500,\n",
    "             title='Arsenal in the EPL',\n",
    "             x_axis_label='Season', y_axis_label='Goals',\n",
    "             toolbar_location=None)\n",
    "\n",
    "goals_fig.line('Season', 'For', \n",
    "         color='#CE1141', legend='Scored', \n",
    "         source=seasonsCombined_cds)\n",
    "goals_fig.line('Season', 'Against', \n",
    "         color='#006BB6', legend='Conceeded', \n",
    "         source=seasonsCombined_cds)\n",
    "\n",
    "# Move the legend to the upper left corner\n",
    "goals_fig.legend.location = 'top_right'\n",
    "\n",
    "#Implement hide on click\n",
    "goals_fig.legend.click_policy=\"hide\""
   ]
  },
  {
   "cell_type": "code",
   "execution_count": null,
   "metadata": {},
   "outputs": [],
   "source": [
    "points_fig = figure(x_range = arsenal_combined_cds.data['Season'],plot_height=300, plot_width=500,\n",
    "             title='Arsenal vs Totteham in the EPL',x_axis_label='Season', y_axis_label='Points',\n",
    "             toolbar_location=None)\n",
    "tooltips = [('TotalPoints','@Points'),('FinalPosition', '@Position')]\n",
    "points_fig.line('Season', 'Points', color='#CE1141', legend='Arsenal', \n",
    "               source=arsenal_combined_cds)                               \n",
    "#points_fig.add_tools(HoverTool(renderers=[r1], tooltips=tooltips))\n",
    "\n",
    "points_fig.line('Season', 'SpursPoints', color='#006BB6', legend='Spurs', \n",
    "              source=arsenal_combined_cds)\n",
    "#points_fig.add_tools(HoverTool(renderers=[r2], tooltips=tooltips))\n",
    "\n",
    "# Move the legend to the upper left corner\n",
    "points_fig.legend.location = 'top_right'\n",
    "\n",
    "#Implement hide on click\n",
    "points_fig.legend.click_policy=\"hide\""
   ]
  },
  {
   "cell_type": "markdown",
   "metadata": {},
   "source": [
    "### Setup HTML page to display the chart "
   ]
  },
  {
   "cell_type": "code",
   "execution_count": null,
   "metadata": {},
   "outputs": [],
   "source": [
    "# Output to file\n",
    "output_file('EPL Season 2009-2019.html', \n",
    "            title=\"Let's See\")\n",
    "\n",
    "#Increase the plot widths\n",
    "points_fig.plot_width = 800\n",
    "\n",
    "# Create two panels, one for each conference\n",
    "goals_panel = Panel(child=goals_fig, title='Goals by Season')\n",
    "#points_panel = Panel(child=points_fig, title='Points by Season')\n",
    "# = Panel(child=results_fig, title='Results by Team')\n",
    "\n",
    "# Assign the panels to Tabs\n",
    "tabs = Tabs(tabs=[goals_panel])\n",
    "\n",
    "# Show the tabbed layout\n",
    "#show(tabs)"
   ]
  },
  {
   "cell_type": "code",
   "execution_count": null,
   "metadata": {},
   "outputs": [],
   "source": []
  }
 ],
 "metadata": {
  "kernelspec": {
   "display_name": "Python 3",
   "language": "python",
   "name": "python3"
  },
  "language_info": {
   "codemirror_mode": {
    "name": "ipython",
    "version": 3
   },
   "file_extension": ".py",
   "mimetype": "text/x-python",
   "name": "python",
   "nbconvert_exporter": "python",
   "pygments_lexer": "ipython3",
   "version": "3.6.5"
  }
 },
 "nbformat": 4,
 "nbformat_minor": 2
}
